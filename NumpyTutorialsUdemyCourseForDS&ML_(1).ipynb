{
  "nbformat": 4,
  "nbformat_minor": 0,
  "metadata": {
    "kernelspec": {
      "display_name": "Python 3",
      "language": "python",
      "name": "python3"
    },
    "language_info": {
      "codemirror_mode": {
        "name": "ipython",
        "version": 3
      },
      "file_extension": ".py",
      "mimetype": "text/x-python",
      "name": "python",
      "nbconvert_exporter": "python",
      "pygments_lexer": "ipython3",
      "version": "3.8.5"
    },
    "colab": {
      "name": "NumpyTutorialsUdemyCourseForDS&ML (1).ipynb",
      "provenance": [],
      "include_colab_link": true
    }
  },
  "cells": [
    {
      "cell_type": "markdown",
      "metadata": {
        "id": "view-in-github",
        "colab_type": "text"
      },
      "source": [
        "<a href=\"https://colab.research.google.com/github/Emmanuel-DS/Numpy/blob/main/NumpyTutorialsUdemyCourseForDS%26ML_(1).ipynb\" target=\"_parent\"><img src=\"https://colab.research.google.com/assets/colab-badge.svg\" alt=\"Open In Colab\"/></a>"
      ]
    },
    {
      "cell_type": "markdown",
      "metadata": {
        "id": "P4HFUqCNPVIi"
      },
      "source": [
        "## Numpy Arrays"
      ]
    },
    {
      "cell_type": "code",
      "metadata": {
        "id": "8n7IdtWqPVJE"
      },
      "source": [
        "import numpy as np"
      ],
      "execution_count": null,
      "outputs": []
    },
    {
      "cell_type": "code",
      "metadata": {
        "id": "dswP5JmRPVJJ"
      },
      "source": [
        "#Creating a numpy Array\n",
        "myList = [1, 2, 3, 4]"
      ],
      "execution_count": null,
      "outputs": []
    },
    {
      "cell_type": "code",
      "metadata": {
        "id": "6ZCR4mrEPVJK",
        "outputId": "3ebfc513-6555-46bf-98af-2225cea53025"
      },
      "source": [
        "type(myList)               #Currently just a list type"
      ],
      "execution_count": null,
      "outputs": [
        {
          "output_type": "execute_result",
          "data": {
            "text/plain": [
              "list"
            ]
          },
          "metadata": {
            "tags": []
          },
          "execution_count": 3
        }
      ]
    },
    {
      "cell_type": "code",
      "metadata": {
        "id": "LHI-qx3TPVJT",
        "outputId": "7e36d436-3480-451a-8695-523c6cf6a9bb"
      },
      "source": [
        "np.array(myList)          #Here we pass in what we want to transform using the np"
      ],
      "execution_count": null,
      "outputs": [
        {
          "output_type": "execute_result",
          "data": {
            "text/plain": [
              "array([1, 2, 3, 4])"
            ]
          },
          "metadata": {
            "tags": []
          },
          "execution_count": 4
        }
      ]
    },
    {
      "cell_type": "code",
      "metadata": {
        "id": "AQ1qqtWKPVJV",
        "outputId": "9caffd79-4b83-40c0-9577-0dc7709f542f"
      },
      "source": [
        "myList                   #this does not change our original list"
      ],
      "execution_count": null,
      "outputs": [
        {
          "output_type": "execute_result",
          "data": {
            "text/plain": [
              "[1, 2, 3, 4]"
            ]
          },
          "metadata": {
            "tags": []
          },
          "execution_count": 5
        }
      ]
    },
    {
      "cell_type": "code",
      "metadata": {
        "id": "Sm_wX3bUPVJW"
      },
      "source": [
        "myarr = np.array(myList)"
      ],
      "execution_count": null,
      "outputs": []
    },
    {
      "cell_type": "code",
      "metadata": {
        "id": "TKonJSr0PVJX",
        "outputId": "167e938f-7206-4f7f-eec5-320c5df65e54"
      },
      "source": [
        "myarr"
      ],
      "execution_count": null,
      "outputs": [
        {
          "output_type": "execute_result",
          "data": {
            "text/plain": [
              "array([1, 2, 3, 4])"
            ]
          },
          "metadata": {
            "tags": []
          },
          "execution_count": 7
        }
      ]
    },
    {
      "cell_type": "code",
      "metadata": {
        "id": "_2an2S3nPVJb",
        "outputId": "a9bd85ca-88ca-48e3-9a89-11c6c367d18f"
      },
      "source": [
        "type(myarr)"
      ],
      "execution_count": null,
      "outputs": [
        {
          "output_type": "execute_result",
          "data": {
            "text/plain": [
              "numpy.ndarray"
            ]
          },
          "metadata": {
            "tags": []
          },
          "execution_count": 8
        }
      ]
    },
    {
      "cell_type": "code",
      "metadata": {
        "id": "xyLh3XuuPVJd"
      },
      "source": [
        "my_matrix = [[1, 2, 3], [4, 5, 6,], [7, 8, 9]]    # We can expand to two dimension array"
      ],
      "execution_count": null,
      "outputs": []
    },
    {
      "cell_type": "code",
      "metadata": {
        "id": "-hR2NFINPVJe",
        "outputId": "5dd77be1-7874-4687-e423-eeefeca1bb04"
      },
      "source": [
        "my_matrix"
      ],
      "execution_count": null,
      "outputs": [
        {
          "output_type": "execute_result",
          "data": {
            "text/plain": [
              "[[1, 2, 3], [4, 5, 6], [7, 8, 9]]"
            ]
          },
          "metadata": {
            "tags": []
          },
          "execution_count": 10
        }
      ]
    },
    {
      "cell_type": "code",
      "metadata": {
        "id": "Z9ZB9a00PVJf",
        "outputId": "91882d6e-478a-45bf-805d-4a56fe95c27d"
      },
      "source": [
        "np.array(my_matrix)"
      ],
      "execution_count": null,
      "outputs": [
        {
          "output_type": "execute_result",
          "data": {
            "text/plain": [
              "array([[1, 2, 3],\n",
              "       [4, 5, 6],\n",
              "       [7, 8, 9]])"
            ]
          },
          "metadata": {
            "tags": []
          },
          "execution_count": 11
        }
      ]
    },
    {
      "cell_type": "code",
      "metadata": {
        "id": "320sqW2rPVJg",
        "outputId": "440ac2b4-a5e9-4d84-da74-66585090ab4a"
      },
      "source": [
        "np.arange(0, 10)                #This is the equivalent of python built in range function"
      ],
      "execution_count": null,
      "outputs": [
        {
          "output_type": "execute_result",
          "data": {
            "text/plain": [
              "array([0, 1, 2, 3, 4, 5, 6, 7, 8, 9])"
            ]
          },
          "metadata": {
            "tags": []
          },
          "execution_count": 13
        }
      ]
    },
    {
      "cell_type": "code",
      "metadata": {
        "id": "qIhZlchTPVJh",
        "outputId": "6e18caf0-d01c-4fae-a62b-95afdccb0957"
      },
      "source": [
        "np.arange(0, 10, 2)    # we just added a step size. It goes up to the range number but not the stopping point"
      ],
      "execution_count": null,
      "outputs": [
        {
          "output_type": "execute_result",
          "data": {
            "text/plain": [
              "array([0, 2, 4, 6, 8])"
            ]
          },
          "metadata": {
            "tags": []
          },
          "execution_count": 14
        }
      ]
    },
    {
      "cell_type": "code",
      "metadata": {
        "id": "_av9KckRPVJj",
        "outputId": "af70d004-8aea-4b73-9f0a-4d2530d64613"
      },
      "source": [
        "np.zeros(5)            #Creating an arrays of Zeros. By default numpy return values in floating point numbers"
      ],
      "execution_count": null,
      "outputs": [
        {
          "output_type": "execute_result",
          "data": {
            "text/plain": [
              "array([0., 0., 0., 0., 0.])"
            ]
          },
          "metadata": {
            "tags": []
          },
          "execution_count": 15
        }
      ]
    },
    {
      "cell_type": "code",
      "metadata": {
        "id": "u6JtSto_PVJk",
        "outputId": "45cefcb4-7ec4-4b65-edf8-e5ac2a406776"
      },
      "source": [
        "np.zeros((5, 5))       #Note the two parenthesis"
      ],
      "execution_count": null,
      "outputs": [
        {
          "output_type": "execute_result",
          "data": {
            "text/plain": [
              "array([[0., 0., 0., 0., 0.],\n",
              "       [0., 0., 0., 0., 0.],\n",
              "       [0., 0., 0., 0., 0.],\n",
              "       [0., 0., 0., 0., 0.],\n",
              "       [0., 0., 0., 0., 0.]])"
            ]
          },
          "metadata": {
            "tags": []
          },
          "execution_count": 17
        }
      ]
    },
    {
      "cell_type": "code",
      "metadata": {
        "id": "6v0tyCJ7PVJl",
        "outputId": "fb91957a-c802-4e26-ab02-415cf3322407"
      },
      "source": [
        "np.zeros((2, 5))     #Number of rows goes first, and the column second"
      ],
      "execution_count": null,
      "outputs": [
        {
          "output_type": "execute_result",
          "data": {
            "text/plain": [
              "array([[0., 0., 0., 0., 0.],\n",
              "       [0., 0., 0., 0., 0.]])"
            ]
          },
          "metadata": {
            "tags": []
          },
          "execution_count": 18
        }
      ]
    },
    {
      "cell_type": "code",
      "metadata": {
        "id": "zzgcPjWtPVJm",
        "outputId": "3b8e173a-4ed9-4806-beb8-a3cd1ca9788d"
      },
      "source": [
        "np.ones((4, 4))"
      ],
      "execution_count": null,
      "outputs": [
        {
          "output_type": "execute_result",
          "data": {
            "text/plain": [
              "array([[1., 1., 1., 1.],\n",
              "       [1., 1., 1., 1.],\n",
              "       [1., 1., 1., 1.],\n",
              "       [1., 1., 1., 1.]])"
            ]
          },
          "metadata": {
            "tags": []
          },
          "execution_count": 19
        }
      ]
    },
    {
      "cell_type": "code",
      "metadata": {
        "id": "KgKGcdC1PVJr",
        "outputId": "6c8213cd-fc93-40c5-8d04-69f687aee9f0"
      },
      "source": [
        "np.ones(5)             #one parenthesis"
      ],
      "execution_count": null,
      "outputs": [
        {
          "output_type": "execute_result",
          "data": {
            "text/plain": [
              "array([1., 1., 1., 1., 1.])"
            ]
          },
          "metadata": {
            "tags": []
          },
          "execution_count": 20
        }
      ]
    },
    {
      "cell_type": "code",
      "metadata": {
        "id": "iCOi6RKbPVJs",
        "outputId": "dd37e147-0d9e-4fa6-e7ad-a4a72e4de58a"
      },
      "source": [
        "np.linspace(0, 10, 3)         #This functon return evenly spaced number over a specified interval and includes the last no\n",
        "                    #Be careful not to confuse it with the arange function"
      ],
      "execution_count": null,
      "outputs": [
        {
          "output_type": "execute_result",
          "data": {
            "text/plain": [
              "array([ 0.,  5., 10.])"
            ]
          },
          "metadata": {
            "tags": []
          },
          "execution_count": 21
        }
      ]
    },
    {
      "cell_type": "code",
      "metadata": {
        "id": "qJkVZqE7PVJt",
        "outputId": "2c69f137-b53a-412a-8852-98716098e364"
      },
      "source": [
        "np.linspace(0, 10, 11)"
      ],
      "execution_count": null,
      "outputs": [
        {
          "output_type": "execute_result",
          "data": {
            "text/plain": [
              "array([ 0.,  1.,  2.,  3.,  4.,  5.,  6.,  7.,  8.,  9., 10.])"
            ]
          },
          "metadata": {
            "tags": []
          },
          "execution_count": 22
        }
      ]
    },
    {
      "cell_type": "code",
      "metadata": {
        "id": "bkXb3YUfPVJu",
        "outputId": "7fd89cde-d71d-4883-c4c1-23137ca406a3"
      },
      "source": [
        "np.linspace(0, 5, 21)"
      ],
      "execution_count": null,
      "outputs": [
        {
          "output_type": "execute_result",
          "data": {
            "text/plain": [
              "array([0.  , 0.25, 0.5 , 0.75, 1.  , 1.25, 1.5 , 1.75, 2.  , 2.25, 2.5 ,\n",
              "       2.75, 3.  , 3.25, 3.5 , 3.75, 4.  , 4.25, 4.5 , 4.75, 5.  ])"
            ]
          },
          "metadata": {
            "tags": []
          },
          "execution_count": 23
        }
      ]
    },
    {
      "cell_type": "code",
      "metadata": {
        "id": "s_olBPLPPVJw",
        "outputId": "724f769f-5004-4e60-9018-2972e8fcca5e"
      },
      "source": [
        "len(np.linspace(0, 5, 21))"
      ],
      "execution_count": null,
      "outputs": [
        {
          "output_type": "execute_result",
          "data": {
            "text/plain": [
              "21"
            ]
          },
          "metadata": {
            "tags": []
          },
          "execution_count": 24
        }
      ]
    },
    {
      "cell_type": "code",
      "metadata": {
        "id": "60KnWMtCPVJy",
        "outputId": "9d4c2481-9451-44d9-96d7-7b07b276b6cd"
      },
      "source": [
        "np.eye(5)                 #this is used to create Identity matrice with a single number. Common with linear algebra"
      ],
      "execution_count": null,
      "outputs": [
        {
          "output_type": "execute_result",
          "data": {
            "text/plain": [
              "array([[1., 0., 0., 0., 0.],\n",
              "       [0., 1., 0., 0., 0.],\n",
              "       [0., 0., 1., 0., 0.],\n",
              "       [0., 0., 0., 1., 0.],\n",
              "       [0., 0., 0., 0., 1.]])"
            ]
          },
          "metadata": {
            "tags": []
          },
          "execution_count": 27
        }
      ]
    },
    {
      "cell_type": "code",
      "metadata": {
        "id": "zluyMveMPVJz",
        "outputId": "987c5714-6155-42d2-845a-4900ee03f2d2"
      },
      "source": [
        "np.random.rand(1)          #Here we want to create a random distributions of data. Everytime we run, a difft no is given"
      ],
      "execution_count": null,
      "outputs": [
        {
          "output_type": "execute_result",
          "data": {
            "text/plain": [
              "array([0.4669566])"
            ]
          },
          "metadata": {
            "tags": []
          },
          "execution_count": 30
        }
      ]
    },
    {
      "cell_type": "code",
      "metadata": {
        "id": "lmg4z-P_PVJ0",
        "outputId": "ae0f0535-6bc2-4eac-a4b9-1f0e7b689ad8"
      },
      "source": [
        "np.random.rand(5, 6)       #Here passing in a shape. 5 rows 6 columns"
      ],
      "execution_count": null,
      "outputs": [
        {
          "output_type": "execute_result",
          "data": {
            "text/plain": [
              "array([[0.41500316, 0.99585643, 0.05403575, 0.4525544 , 0.036948  ,\n",
              "        0.20359564],\n",
              "       [0.54513289, 0.22977062, 0.52426614, 0.57420086, 0.07415124,\n",
              "        0.33615217],\n",
              "       [0.45542328, 0.35386375, 0.62979444, 0.92659237, 0.25799049,\n",
              "        0.95547545],\n",
              "       [0.41108597, 0.78166776, 0.83715983, 0.22465124, 0.55774586,\n",
              "        0.7885653 ],\n",
              "       [0.69201388, 0.30063361, 0.40920311, 0.83700827, 0.10619778,\n",
              "        0.17527926]])"
            ]
          },
          "metadata": {
            "tags": []
          },
          "execution_count": 31
        }
      ]
    },
    {
      "cell_type": "code",
      "metadata": {
        "id": "qxbdHBsAPVJ1",
        "outputId": "936368a6-9021-4d30-824c-35432af7f3b6"
      },
      "source": [
        "np.random.randn(10)            #here we are creating sample for standard normal random distributions"
      ],
      "execution_count": null,
      "outputs": [
        {
          "output_type": "execute_result",
          "data": {
            "text/plain": [
              "array([ 0.68385512,  0.88127779, -0.47843825,  0.06770535,  1.18369067,\n",
              "        0.01820683, -0.39247593,  0.39914613, -2.48157603,  0.80103896])"
            ]
          },
          "metadata": {
            "tags": []
          },
          "execution_count": 32
        }
      ]
    },
    {
      "cell_type": "code",
      "metadata": {
        "id": "4Nm5ohF2PVJ2",
        "outputId": "d4796cb4-f827-453d-e26f-ccc47828c568"
      },
      "source": [
        "np.random.randn(2, 3)"
      ],
      "execution_count": null,
      "outputs": [
        {
          "output_type": "execute_result",
          "data": {
            "text/plain": [
              "array([[ 0.32628216, -2.06321229,  0.35351117],\n",
              "       [ 0.32849732, -1.13563563, -0.67396633]])"
            ]
          },
          "metadata": {
            "tags": []
          },
          "execution_count": 33
        }
      ]
    },
    {
      "cell_type": "code",
      "metadata": {
        "id": "Cq0bau-GPVJ_",
        "outputId": "56902c92-d3ba-4414-b889-bc065e4cdd19"
      },
      "source": [
        "np.random.randint(0, 101, 5)        # This returns back random integers"
      ],
      "execution_count": null,
      "outputs": [
        {
          "output_type": "execute_result",
          "data": {
            "text/plain": [
              "array([98, 29, 83, 76, 70])"
            ]
          },
          "metadata": {
            "tags": []
          },
          "execution_count": 34
        }
      ]
    },
    {
      "cell_type": "code",
      "metadata": {
        "id": "0Cq3T4zTPVKA",
        "outputId": "5dbea5a6-83ee-409e-99af-435be6b68a31"
      },
      "source": [
        "np.random.randint(0, 101, 20)       #Here 20 random ints will be given"
      ],
      "execution_count": null,
      "outputs": [
        {
          "output_type": "execute_result",
          "data": {
            "text/plain": [
              "array([ 25,  83,   1,  24,  68,  93,  35,  27,  58,  32,  44,  15, 100,\n",
              "        74,  62,  69,  27,  93,   5,   5])"
            ]
          },
          "metadata": {
            "tags": []
          },
          "execution_count": 35
        }
      ]
    },
    {
      "cell_type": "code",
      "metadata": {
        "id": "_vglddwUPVKB",
        "outputId": "5752eca8-83d9-4efa-d076-463982d58c76"
      },
      "source": [
        "np.random.randint(0, 101, (4, 5))     #four by five array"
      ],
      "execution_count": null,
      "outputs": [
        {
          "output_type": "execute_result",
          "data": {
            "text/plain": [
              "array([[30, 16, 22, 78, 18],\n",
              "       [15, 19, 56, 53, 87],\n",
              "       [41, 96, 40, 48, 35],\n",
              "       [53, 92, 54, 17, 56]])"
            ]
          },
          "metadata": {
            "tags": []
          },
          "execution_count": 36
        }
      ]
    },
    {
      "cell_type": "code",
      "metadata": {
        "id": "0l0sstsPPVKC",
        "outputId": "a2608fef-d3e1-499e-c483-ae17df7c7cc9"
      },
      "source": [
        "np.random.seed(42)              #Seed allows us to set a particular set of random numbers. We choose arbitrary number 42\n",
        "np.random.rand(4)               #Any arbitrary number can be choosen"
      ],
      "execution_count": null,
      "outputs": [
        {
          "output_type": "execute_result",
          "data": {
            "text/plain": [
              "array([0.37454012, 0.95071431, 0.73199394, 0.59865848])"
            ]
          },
          "metadata": {
            "tags": []
          },
          "execution_count": 37
        }
      ]
    },
    {
      "cell_type": "code",
      "metadata": {
        "id": "QbASd8UDPVKD",
        "outputId": "f1e4c10c-2163-43d1-bde8-cf144bb40d37"
      },
      "source": [
        "np.random.rand(4)               #We got a difft random number but if we need the same set of numbers, we must use seed"
      ],
      "execution_count": null,
      "outputs": [
        {
          "output_type": "execute_result",
          "data": {
            "text/plain": [
              "array([0.15601864, 0.15599452, 0.05808361, 0.86617615])"
            ]
          },
          "metadata": {
            "tags": []
          },
          "execution_count": 38
        }
      ]
    },
    {
      "cell_type": "code",
      "metadata": {
        "id": "MgLbtmRPPVKE",
        "outputId": "56761532-b2e1-4042-92fc-6f295e07c17b"
      },
      "source": [
        "np.random.seed(42)              #Trying it again. We got the same set of numbers\n",
        "np.random.rand(4)"
      ],
      "execution_count": null,
      "outputs": [
        {
          "output_type": "execute_result",
          "data": {
            "text/plain": [
              "array([0.37454012, 0.95071431, 0.73199394, 0.59865848])"
            ]
          },
          "metadata": {
            "tags": []
          },
          "execution_count": 39
        }
      ]
    },
    {
      "cell_type": "code",
      "metadata": {
        "id": "ByIIOZqgPVKF",
        "outputId": "548f3656-d8de-4bb2-e300-4e49ab323d6c"
      },
      "source": [
        "arr = np.arange(0, 25)\n",
        "arr"
      ],
      "execution_count": null,
      "outputs": [
        {
          "output_type": "execute_result",
          "data": {
            "text/plain": [
              "array([ 0,  1,  2,  3,  4,  5,  6,  7,  8,  9, 10, 11, 12, 13, 14, 15, 16,\n",
              "       17, 18, 19, 20, 21, 22, 23, 24])"
            ]
          },
          "metadata": {
            "tags": []
          },
          "execution_count": 40
        }
      ]
    },
    {
      "cell_type": "code",
      "metadata": {
        "id": "Piy5u6NFPVKG",
        "outputId": "e59d735d-e1d9-4db2-e202-0ad172892a45"
      },
      "source": [
        "arr.reshape(5, 5)      #we can reshape our arrays, say to 5 x 5 cos it's 25 elements. The same set of numbers came up"
      ],
      "execution_count": null,
      "outputs": [
        {
          "output_type": "execute_result",
          "data": {
            "text/plain": [
              "array([[ 0,  1,  2,  3,  4],\n",
              "       [ 5,  6,  7,  8,  9],\n",
              "       [10, 11, 12, 13, 14],\n",
              "       [15, 16, 17, 18, 19],\n",
              "       [20, 21, 22, 23, 24]])"
            ]
          },
          "metadata": {
            "tags": []
          },
          "execution_count": 42
        }
      ]
    },
    {
      "cell_type": "code",
      "metadata": {
        "id": "At9-QbH0PVKH",
        "outputId": "d0a27a8a-9b9b-445e-a60e-3955295b5adb"
      },
      "source": [
        "ran_arr = np.random.randint(0, 101, 10)\n",
        "ran_arr"
      ],
      "execution_count": null,
      "outputs": [
        {
          "output_type": "execute_result",
          "data": {
            "text/plain": [
              "array([ 1, 87, 29, 37,  1, 63, 59, 20, 32, 75])"
            ]
          },
          "metadata": {
            "tags": []
          },
          "execution_count": 44
        }
      ]
    },
    {
      "cell_type": "code",
      "metadata": {
        "id": "_KY0sttVPVKI",
        "outputId": "6ebcd781-65a4-47e4-d1a3-fab87b485fbb"
      },
      "source": [
        "ran_arr.max()        #To get the maximum value in the array"
      ],
      "execution_count": null,
      "outputs": [
        {
          "output_type": "execute_result",
          "data": {
            "text/plain": [
              "87"
            ]
          },
          "metadata": {
            "tags": []
          },
          "execution_count": 45
        }
      ]
    },
    {
      "cell_type": "code",
      "metadata": {
        "id": "GILV8chTPVKJ",
        "outputId": "5d7db12b-b71a-47db-e754-f10c0f01d14d"
      },
      "source": [
        "ran_arr.min()        #To get the minimum value in the array"
      ],
      "execution_count": null,
      "outputs": [
        {
          "output_type": "execute_result",
          "data": {
            "text/plain": [
              "1"
            ]
          },
          "metadata": {
            "tags": []
          },
          "execution_count": 46
        }
      ]
    },
    {
      "cell_type": "code",
      "metadata": {
        "id": "M1sDFRkpPVKL",
        "outputId": "f4949f3c-c81b-45a4-d892-9e0446eedc32"
      },
      "source": [
        "ran_arr.argmax()      #We want to know the index location of the max value"
      ],
      "execution_count": null,
      "outputs": [
        {
          "output_type": "execute_result",
          "data": {
            "text/plain": [
              "1"
            ]
          },
          "metadata": {
            "tags": []
          },
          "execution_count": 47
        }
      ]
    },
    {
      "cell_type": "code",
      "metadata": {
        "id": "VBg7QVTfPVKN",
        "outputId": "0dd48b46-03ce-402a-c901-8e4342ecb906"
      },
      "source": [
        "ran_arr.argmin()"
      ],
      "execution_count": null,
      "outputs": [
        {
          "output_type": "execute_result",
          "data": {
            "text/plain": [
              "0"
            ]
          },
          "metadata": {
            "tags": []
          },
          "execution_count": 48
        }
      ]
    },
    {
      "cell_type": "code",
      "metadata": {
        "id": "-1K7cI6oPVKO",
        "outputId": "76ebbd6c-bd71-47be-b034-238112bcdaa8"
      },
      "source": [
        "ran_arr.dtype        #To check the datatype of array"
      ],
      "execution_count": null,
      "outputs": [
        {
          "output_type": "execute_result",
          "data": {
            "text/plain": [
              "dtype('int32')"
            ]
          },
          "metadata": {
            "tags": []
          },
          "execution_count": 49
        }
      ]
    },
    {
      "cell_type": "code",
      "metadata": {
        "id": "O59biaFHPVKP",
        "outputId": "bc7bc33c-a86f-44d0-f4fe-dd8c18d82424"
      },
      "source": [
        "arr"
      ],
      "execution_count": null,
      "outputs": [
        {
          "output_type": "execute_result",
          "data": {
            "text/plain": [
              "array([ 0,  1,  2,  3,  4,  5,  6,  7,  8,  9, 10, 11, 12, 13, 14, 15, 16,\n",
              "       17, 18, 19, 20, 21, 22, 23, 24])"
            ]
          },
          "metadata": {
            "tags": []
          },
          "execution_count": 50
        }
      ]
    },
    {
      "cell_type": "code",
      "metadata": {
        "id": "WcIpGrCNPVKS",
        "outputId": "1e0b9c9d-bcee-4023-84a6-cb4714b4263b"
      },
      "source": [
        "arr.shape"
      ],
      "execution_count": null,
      "outputs": [
        {
          "output_type": "execute_result",
          "data": {
            "text/plain": [
              "(25,)"
            ]
          },
          "metadata": {
            "tags": []
          },
          "execution_count": 51
        }
      ]
    },
    {
      "cell_type": "code",
      "metadata": {
        "id": "UiZgmtn9PVKT"
      },
      "source": [
        "arr = arr.reshape(5, 5)"
      ],
      "execution_count": null,
      "outputs": []
    },
    {
      "cell_type": "code",
      "metadata": {
        "id": "m2VnwkDhPVKU",
        "outputId": "bbd46961-a5b4-480e-a8c7-546a65cfb29f"
      },
      "source": [
        "arr"
      ],
      "execution_count": null,
      "outputs": [
        {
          "output_type": "execute_result",
          "data": {
            "text/plain": [
              "array([[ 0,  1,  2,  3,  4],\n",
              "       [ 5,  6,  7,  8,  9],\n",
              "       [10, 11, 12, 13, 14],\n",
              "       [15, 16, 17, 18, 19],\n",
              "       [20, 21, 22, 23, 24]])"
            ]
          },
          "metadata": {
            "tags": []
          },
          "execution_count": 53
        }
      ]
    },
    {
      "cell_type": "code",
      "metadata": {
        "id": "ivdpt4DCPVKU",
        "outputId": "67b04006-dc0b-4f68-c9e6-ee2310cda807"
      },
      "source": [
        "arr.shape"
      ],
      "execution_count": null,
      "outputs": [
        {
          "output_type": "execute_result",
          "data": {
            "text/plain": [
              "(5, 5)"
            ]
          },
          "metadata": {
            "tags": []
          },
          "execution_count": 54
        }
      ]
    },
    {
      "cell_type": "code",
      "metadata": {
        "id": "HR4sVivtPVKV",
        "outputId": "46068fa2-5583-4472-e641-5c8dd88b20a7"
      },
      "source": [
        "arr.reshape(25, 1)"
      ],
      "execution_count": null,
      "outputs": [
        {
          "output_type": "execute_result",
          "data": {
            "text/plain": [
              "array([[ 0],\n",
              "       [ 1],\n",
              "       [ 2],\n",
              "       [ 3],\n",
              "       [ 4],\n",
              "       [ 5],\n",
              "       [ 6],\n",
              "       [ 7],\n",
              "       [ 8],\n",
              "       [ 9],\n",
              "       [10],\n",
              "       [11],\n",
              "       [12],\n",
              "       [13],\n",
              "       [14],\n",
              "       [15],\n",
              "       [16],\n",
              "       [17],\n",
              "       [18],\n",
              "       [19],\n",
              "       [20],\n",
              "       [21],\n",
              "       [22],\n",
              "       [23],\n",
              "       [24]])"
            ]
          },
          "metadata": {
            "tags": []
          },
          "execution_count": 55
        }
      ]
    },
    {
      "cell_type": "code",
      "metadata": {
        "id": "GmB9_QEcPVKW",
        "outputId": "92ea9b4a-02f3-4290-a823-bea9195580dc"
      },
      "source": [
        "arr.reshape(1, 25) #we have two set of brackets of one row consisting one colume"
      ],
      "execution_count": null,
      "outputs": [
        {
          "output_type": "execute_result",
          "data": {
            "text/plain": [
              "array([[ 0,  1,  2,  3,  4,  5,  6,  7,  8,  9, 10, 11, 12, 13, 14, 15,\n",
              "        16, 17, 18, 19, 20, 21, 22, 23, 24]])"
            ]
          },
          "metadata": {
            "tags": []
          },
          "execution_count": 56
        }
      ]
    },
    {
      "cell_type": "code",
      "metadata": {
        "id": "cau_da5jPVKa"
      },
      "source": [
        "import numpy as np"
      ],
      "execution_count": null,
      "outputs": []
    },
    {
      "cell_type": "code",
      "metadata": {
        "id": "kMcOBgfuPVKd"
      },
      "source": [
        "my_arr = np.arange(0, 11)"
      ],
      "execution_count": null,
      "outputs": []
    },
    {
      "cell_type": "code",
      "metadata": {
        "id": "7YuGjAjtPVKe",
        "outputId": "e607a94b-c402-4454-87c3-97fb305177a0"
      },
      "source": [
        "my_arr"
      ],
      "execution_count": null,
      "outputs": [
        {
          "output_type": "execute_result",
          "data": {
            "text/plain": [
              "array([ 0,  1,  2,  3,  4,  5,  6,  7,  8,  9, 10])"
            ]
          },
          "metadata": {
            "tags": []
          },
          "execution_count": 13
        }
      ]
    },
    {
      "cell_type": "code",
      "metadata": {
        "id": "F7_yV9rXPVKf",
        "outputId": "54362f72-5931-4541-dfa5-cda366ebd4cd"
      },
      "source": [
        "my_arr[7]      #Selecting a single index"
      ],
      "execution_count": null,
      "outputs": [
        {
          "output_type": "execute_result",
          "data": {
            "text/plain": [
              "7"
            ]
          },
          "metadata": {
            "tags": []
          },
          "execution_count": 14
        }
      ]
    },
    {
      "cell_type": "code",
      "metadata": {
        "id": "mSrk-ryvPVKg",
        "outputId": "0b03bdd9-10bb-4ce9-e270-fe432e3add53"
      },
      "source": [
        "my_arr[1:5]    #Selecting some element up t but not including the last number"
      ],
      "execution_count": null,
      "outputs": [
        {
          "output_type": "execute_result",
          "data": {
            "text/plain": [
              "array([1, 2, 3, 4])"
            ]
          },
          "metadata": {
            "tags": []
          },
          "execution_count": 15
        }
      ]
    },
    {
      "cell_type": "code",
      "metadata": {
        "id": "RQKgiu9ZPVKh",
        "outputId": "5942862d-5900-4699-83a8-b5ac835aedaa"
      },
      "source": [
        "my_arr[:5]"
      ],
      "execution_count": null,
      "outputs": [
        {
          "output_type": "execute_result",
          "data": {
            "text/plain": [
              "array([0, 1, 2, 3, 4])"
            ]
          },
          "metadata": {
            "tags": []
          },
          "execution_count": 16
        }
      ]
    },
    {
      "cell_type": "code",
      "metadata": {
        "id": "vDdhQIiiPVKi",
        "outputId": "47f8d26e-c387-4b9d-d44d-4a6a0ef03cd1"
      },
      "source": [
        "my_arr[5:]     #Selecting from a particular point to the end"
      ],
      "execution_count": null,
      "outputs": [
        {
          "output_type": "execute_result",
          "data": {
            "text/plain": [
              "array([ 5,  6,  7,  8,  9, 10])"
            ]
          },
          "metadata": {
            "tags": []
          },
          "execution_count": 17
        }
      ]
    },
    {
      "cell_type": "code",
      "metadata": {
        "id": "HiFFM2SMPVKj",
        "outputId": "e6dbc130-ae08-454f-9c04-ec9794047863"
      },
      "source": [
        "my_arr"
      ],
      "execution_count": null,
      "outputs": [
        {
          "output_type": "execute_result",
          "data": {
            "text/plain": [
              "array([ 0,  1,  2,  3,  4,  5,  6,  7,  8,  9, 10])"
            ]
          },
          "metadata": {
            "tags": []
          },
          "execution_count": 18
        }
      ]
    },
    {
      "cell_type": "code",
      "metadata": {
        "id": "P8WksoobPVKj"
      },
      "source": [
        "my_arr[0:5] = 100      #We are broadcasting. The values has been change"
      ],
      "execution_count": null,
      "outputs": []
    },
    {
      "cell_type": "code",
      "metadata": {
        "id": "NUHHGua9PVKk",
        "outputId": "87e004e9-5eb5-4a0d-d7de-86430be5876c"
      },
      "source": [
        "my_arr"
      ],
      "execution_count": null,
      "outputs": [
        {
          "output_type": "execute_result",
          "data": {
            "text/plain": [
              "array([100, 100, 100, 100, 100,   5,   6,   7,   8,   9,  10])"
            ]
          },
          "metadata": {
            "tags": []
          },
          "execution_count": 20
        }
      ]
    },
    {
      "cell_type": "code",
      "metadata": {
        "id": "ycHVQpHhPVKl"
      },
      "source": [
        "my_arr = np.arange(0, 11)       #We reset of array back"
      ],
      "execution_count": null,
      "outputs": []
    },
    {
      "cell_type": "code",
      "metadata": {
        "id": "Pwu9rPauPVKm",
        "outputId": "8c517d28-17ac-40aa-d438-f09e1bec7a3b"
      },
      "source": [
        "slice_of_arr = my_arr[0:5]      #Slicing of Array\n",
        "slice_of_arr"
      ],
      "execution_count": null,
      "outputs": [
        {
          "output_type": "execute_result",
          "data": {
            "text/plain": [
              "array([0, 1, 2, 3, 4])"
            ]
          },
          "metadata": {
            "tags": []
          },
          "execution_count": 23
        }
      ]
    },
    {
      "cell_type": "code",
      "metadata": {
        "id": "jQZbYBm7PVKm",
        "outputId": "18c04b70-a3bc-477c-c77a-189bfc6977c7"
      },
      "source": [
        "my_arr"
      ],
      "execution_count": null,
      "outputs": [
        {
          "output_type": "execute_result",
          "data": {
            "text/plain": [
              "array([ 0,  1,  2,  3,  4,  5,  6,  7,  8,  9, 10])"
            ]
          },
          "metadata": {
            "tags": []
          },
          "execution_count": 24
        }
      ]
    },
    {
      "cell_type": "code",
      "metadata": {
        "id": "qfYl9u4hPVKo",
        "outputId": "5a423d0a-aea1-4014-d737-5d8a8c681967"
      },
      "source": [
        "slice_of_arr[:] = 88   # SLicing a part and assigning new value to it\n",
        "slice_of_arr"
      ],
      "execution_count": null,
      "outputs": [
        {
          "output_type": "execute_result",
          "data": {
            "text/plain": [
              "array([88, 88, 88, 88, 88])"
            ]
          },
          "metadata": {
            "tags": []
          },
          "execution_count": 25
        }
      ]
    },
    {
      "cell_type": "code",
      "metadata": {
        "id": "c-PI5vEhPVKp"
      },
      "source": [
        "my_arr_copy = my_arr.copy()"
      ],
      "execution_count": null,
      "outputs": []
    },
    {
      "cell_type": "code",
      "metadata": {
        "id": "l61W9GEEPVKq",
        "outputId": "0c9bd3c0-4c6c-4320-d00d-88560df6ae9b"
      },
      "source": [
        "my_arr_copy[:] = 100    #We are changing all the value\n",
        "my_arr_copy"
      ],
      "execution_count": null,
      "outputs": [
        {
          "output_type": "execute_result",
          "data": {
            "text/plain": [
              "array([100, 100, 100, 100, 100, 100, 100, 100, 100, 100, 100])"
            ]
          },
          "metadata": {
            "tags": []
          },
          "execution_count": 28
        }
      ]
    },
    {
      "cell_type": "code",
      "metadata": {
        "id": "yj4E1FiIPVKq",
        "outputId": "44f6582a-09f5-4957-c7cf-d2e8c8a8e478"
      },
      "source": [
        "my_arr"
      ],
      "execution_count": null,
      "outputs": [
        {
          "output_type": "execute_result",
          "data": {
            "text/plain": [
              "array([88, 88, 88, 88, 88,  5,  6,  7,  8,  9, 10])"
            ]
          },
          "metadata": {
            "tags": []
          },
          "execution_count": 29
        }
      ]
    },
    {
      "cell_type": "code",
      "metadata": {
        "id": "lnEkg_k-PVKt"
      },
      "source": [
        "my_arr_2d = np.array([[5, 10, 15], [20, 25, 30], [35, 45, 50]])    # We have a 2d array"
      ],
      "execution_count": null,
      "outputs": []
    },
    {
      "cell_type": "code",
      "metadata": {
        "id": "-fiGKt2tPVKu",
        "outputId": "a640c8cc-bd9a-4dac-e06e-f2ad3089f178"
      },
      "source": [
        "my_arr_2d"
      ],
      "execution_count": null,
      "outputs": [
        {
          "output_type": "execute_result",
          "data": {
            "text/plain": [
              "array([[ 5, 10, 15],\n",
              "       [20, 25, 30],\n",
              "       [35, 45, 50]])"
            ]
          },
          "metadata": {
            "tags": []
          },
          "execution_count": 33
        }
      ]
    },
    {
      "cell_type": "code",
      "metadata": {
        "id": "xiKh84jRPVKv",
        "outputId": "abdf6d05-885a-488c-99ef-4d3c1c04adb0"
      },
      "source": [
        "my_arr_2d.shape       #This retuns back the number of rolls and column"
      ],
      "execution_count": null,
      "outputs": [
        {
          "output_type": "execute_result",
          "data": {
            "text/plain": [
              "(3, 3)"
            ]
          },
          "metadata": {
            "tags": []
          },
          "execution_count": 34
        }
      ]
    },
    {
      "cell_type": "code",
      "metadata": {
        "id": "s8pQEOy1PVKw",
        "outputId": "bb0d97ac-c728-478a-b51d-c6b7a9299ed3"
      },
      "source": [
        "my_arr_2d[0]       #getting the first row"
      ],
      "execution_count": null,
      "outputs": [
        {
          "output_type": "execute_result",
          "data": {
            "text/plain": [
              "array([ 5, 10, 15])"
            ]
          },
          "metadata": {
            "tags": []
          },
          "execution_count": 35
        }
      ]
    },
    {
      "cell_type": "code",
      "metadata": {
        "id": "cj-X-d_MPVKx",
        "outputId": "fc65a222-3d92-4cb0-eb72-a877bb415b2b"
      },
      "source": [
        "my_arr_2d[2]        #getting index 2"
      ],
      "execution_count": null,
      "outputs": [
        {
          "output_type": "execute_result",
          "data": {
            "text/plain": [
              "array([35, 45, 50])"
            ]
          },
          "metadata": {
            "tags": []
          },
          "execution_count": 36
        }
      ]
    },
    {
      "cell_type": "code",
      "metadata": {
        "id": "_5bM7YkmPVKy",
        "outputId": "8cd75d51-02d1-4ad4-9efa-7648f7b73373"
      },
      "source": [
        "my_arr_2d[2][1]     #getting row 2 index 1"
      ],
      "execution_count": null,
      "outputs": [
        {
          "output_type": "execute_result",
          "data": {
            "text/plain": [
              "45"
            ]
          },
          "metadata": {
            "tags": []
          },
          "execution_count": 38
        }
      ]
    },
    {
      "cell_type": "code",
      "metadata": {
        "id": "ja17i9FuPVKz",
        "outputId": "f62cbdf0-a60c-44d2-835f-1d8bffb734ad"
      },
      "source": [
        "my_arr_2d[1, 2]    #Alternatively can be done this way"
      ],
      "execution_count": null,
      "outputs": [
        {
          "output_type": "execute_result",
          "data": {
            "text/plain": [
              "30"
            ]
          },
          "metadata": {
            "tags": []
          },
          "execution_count": 39
        }
      ]
    },
    {
      "cell_type": "code",
      "metadata": {
        "id": "-ALk8x9qPVK0",
        "outputId": "dfa5b3f1-ff93-4297-cc94-93a6d6747525"
      },
      "source": [
        "my_arr_2d[:2]      #grabbing first two rows. Up to but not including 2"
      ],
      "execution_count": null,
      "outputs": [
        {
          "output_type": "execute_result",
          "data": {
            "text/plain": [
              "array([[ 5, 10, 15],\n",
              "       [20, 25, 30]])"
            ]
          },
          "metadata": {
            "tags": []
          },
          "execution_count": 40
        }
      ]
    },
    {
      "cell_type": "code",
      "metadata": {
        "id": "ZFANMETJPVK1",
        "outputId": "5cd950d6-122a-46c8-bea5-3f8d7eecd285"
      },
      "source": [
        "my_arr_2d[:2, 1:]    #grabbing some subsection of our matrix"
      ],
      "execution_count": null,
      "outputs": [
        {
          "output_type": "execute_result",
          "data": {
            "text/plain": [
              "array([[10, 15],\n",
              "       [25, 30]])"
            ]
          },
          "metadata": {
            "tags": []
          },
          "execution_count": 41
        }
      ]
    },
    {
      "cell_type": "code",
      "metadata": {
        "id": "I9rRUnoPPVK2",
        "outputId": "0c9d2455-ca26-42a2-c9aa-58b48fa4f872"
      },
      "source": [
        "# CONDITIONAL SELECTION\n",
        "my_arr = np.arange(1, 11)\n",
        "my_arr"
      ],
      "execution_count": null,
      "outputs": [
        {
          "output_type": "execute_result",
          "data": {
            "text/plain": [
              "array([ 1,  2,  3,  4,  5,  6,  7,  8,  9, 10])"
            ]
          },
          "metadata": {
            "tags": []
          },
          "execution_count": 42
        }
      ]
    },
    {
      "cell_type": "code",
      "metadata": {
        "id": "4Ap7uAP3PVK3",
        "outputId": "965095dc-bb1a-49b7-9f42-f539b59e1174"
      },
      "source": [
        "my_arr > 4    #This returns values that are true or false depending. Numpy array of booleen values"
      ],
      "execution_count": null,
      "outputs": [
        {
          "output_type": "execute_result",
          "data": {
            "text/plain": [
              "array([False, False, False, False,  True,  True,  True,  True,  True,\n",
              "        True])"
            ]
          },
          "metadata": {
            "tags": []
          },
          "execution_count": 43
        }
      ]
    },
    {
      "cell_type": "code",
      "metadata": {
        "id": "iFj0GBHuPVK3",
        "outputId": "43a5d8e4-a73e-4172-bf25-2f5e7c1ddf38"
      },
      "source": [
        "bool_my_arr = my_arr > 4     #Alternatively done this way\n",
        "bool_my_arr"
      ],
      "execution_count": null,
      "outputs": [
        {
          "output_type": "execute_result",
          "data": {
            "text/plain": [
              "array([False, False, False, False,  True,  True,  True,  True,  True,\n",
              "        True])"
            ]
          },
          "metadata": {
            "tags": []
          },
          "execution_count": 44
        }
      ]
    },
    {
      "cell_type": "code",
      "metadata": {
        "id": "ZEkO_xjoPVK4",
        "outputId": "eda924ef-cad9-4625-bfeb-f34f8b503a67"
      },
      "source": [
        "my_arr[bool_my_arr]           #This will return the values that are > 4"
      ],
      "execution_count": null,
      "outputs": [
        {
          "output_type": "execute_result",
          "data": {
            "text/plain": [
              "array([ 5,  6,  7,  8,  9, 10])"
            ]
          },
          "metadata": {
            "tags": []
          },
          "execution_count": 46
        }
      ]
    },
    {
      "cell_type": "code",
      "metadata": {
        "id": "ilA8JXq2PVK5",
        "outputId": "14a0249a-a400-49e0-ceb7-b76f62d95474"
      },
      "source": [
        "my_arr[my_arr > 4]              #Alternatively done this way and better. This is our condition selection filter"
      ],
      "execution_count": null,
      "outputs": [
        {
          "output_type": "execute_result",
          "data": {
            "text/plain": [
              "array([ 5,  6,  7,  8,  9, 10])"
            ]
          },
          "metadata": {
            "tags": []
          },
          "execution_count": 47
        }
      ]
    },
    {
      "cell_type": "code",
      "metadata": {
        "id": "P3qpdSHfPVK6"
      },
      "source": [
        "\"\"\" A six sided die was rolled many times and the results of the rolls were saved to a numpy array called dice_roll.\n",
        "How many time was a roll greater than 2. In other words, how many of the integers in the dice_rolls array are greater than 2\n",
        "Assign your answer to a variable called total_rolls_over_two\n",
        "\"\"\"\n",
        "import numpy as np"
      ],
      "execution_count": null,
      "outputs": []
    },
    {
      "cell_type": "code",
      "metadata": {
        "id": "aRDMJ6f1PVK7"
      },
      "source": [
        "dice_rolls = np.array([3, 1, 5, 2, 5, 1, 1, 5, 1, 4, 2, 1, 4, 5, 3, 4, 5, 2, 4, 2, 6, 6, 3, 6, 2, 3, 5, 6, 5])"
      ],
      "execution_count": null,
      "outputs": []
    },
    {
      "cell_type": "code",
      "metadata": {
        "id": "L8J-Vs0ePVK8"
      },
      "source": [
        "total_rolls_over_two = len(dice_rolls[dice_rolls > 2])"
      ],
      "execution_count": null,
      "outputs": []
    },
    {
      "cell_type": "code",
      "metadata": {
        "id": "Q_Emvqy8PVK_",
        "outputId": "da973bcb-62e8-4685-c1f9-e2c14540f479"
      },
      "source": [
        "total_rolls_over_two"
      ],
      "execution_count": null,
      "outputs": [
        {
          "output_type": "execute_result",
          "data": {
            "text/plain": [
              "19"
            ]
          },
          "metadata": {
            "tags": []
          },
          "execution_count": 51
        }
      ]
    },
    {
      "cell_type": "code",
      "metadata": {
        "id": "b4UrlC8LPVLA",
        "outputId": "fa5c2b36-5b88-444a-b408-d2d44b2fb182"
      },
      "source": [
        "arr = np.arange(0, 10)\n",
        "arr"
      ],
      "execution_count": null,
      "outputs": [
        {
          "output_type": "execute_result",
          "data": {
            "text/plain": [
              "array([0, 1, 2, 3, 4, 5, 6, 7, 8, 9])"
            ]
          },
          "metadata": {
            "tags": []
          },
          "execution_count": 52
        }
      ]
    },
    {
      "cell_type": "code",
      "metadata": {
        "id": "lX0utjzOPVLB",
        "outputId": "5ac3fc2f-43d9-456b-b7b5-7b82bfcebbe4"
      },
      "source": [
        "arr + 5    #Here Numpy will perform this operation on element by element basis"
      ],
      "execution_count": null,
      "outputs": [
        {
          "output_type": "execute_result",
          "data": {
            "text/plain": [
              "array([ 5,  6,  7,  8,  9, 10, 11, 12, 13, 14])"
            ]
          },
          "metadata": {
            "tags": []
          },
          "execution_count": 53
        }
      ]
    },
    {
      "cell_type": "code",
      "metadata": {
        "id": "iq6ZEFc6PVLC",
        "outputId": "60f5b2e8-44f3-4de3-a0e6-15d887cf3c0e"
      },
      "source": [
        "arr - 2"
      ],
      "execution_count": null,
      "outputs": [
        {
          "output_type": "execute_result",
          "data": {
            "text/plain": [
              "array([-2, -1,  0,  1,  2,  3,  4,  5,  6,  7])"
            ]
          },
          "metadata": {
            "tags": []
          },
          "execution_count": 54
        }
      ]
    },
    {
      "cell_type": "code",
      "metadata": {
        "id": "sxCjtJUDPVLD",
        "outputId": "bc4912f5-3338-4c69-a54d-f69d5a26b774"
      },
      "source": [
        "arr + arr   #in other for this to work, they have to be same shape"
      ],
      "execution_count": null,
      "outputs": [
        {
          "output_type": "execute_result",
          "data": {
            "text/plain": [
              "array([ 0,  2,  4,  6,  8, 10, 12, 14, 16, 18])"
            ]
          },
          "metadata": {
            "tags": []
          },
          "execution_count": 55
        }
      ]
    },
    {
      "cell_type": "code",
      "metadata": {
        "id": "BXt_jjr9PVLE",
        "outputId": "0e050779-cf35-4c3a-c1cf-af781b9f600d"
      },
      "source": [
        "arr * arr     #Multiplication"
      ],
      "execution_count": null,
      "outputs": [
        {
          "output_type": "execute_result",
          "data": {
            "text/plain": [
              "array([ 0,  1,  4,  9, 16, 25, 36, 49, 64, 81])"
            ]
          },
          "metadata": {
            "tags": []
          },
          "execution_count": 56
        }
      ]
    },
    {
      "cell_type": "code",
      "metadata": {
        "id": "m4DnfjQ3PVLF",
        "outputId": "6c04d1f7-ad2e-42e3-973d-ead0e1b7e607"
      },
      "source": [
        "arr - arr      #Subtraction"
      ],
      "execution_count": null,
      "outputs": [
        {
          "output_type": "execute_result",
          "data": {
            "text/plain": [
              "array([0, 0, 0, 0, 0, 0, 0, 0, 0, 0])"
            ]
          },
          "metadata": {
            "tags": []
          },
          "execution_count": 57
        }
      ]
    },
    {
      "cell_type": "code",
      "metadata": {
        "id": "RUUsLkOlPVLG",
        "outputId": "4aea7fd9-23ef-4596-f7ce-c2d59d6a51e8"
      },
      "source": [
        "arr / arr     #Here numpy gives a waring cos of 0 that is not divisible by 0. nan(not a number is ouputed)"
      ],
      "execution_count": null,
      "outputs": [
        {
          "output_type": "stream",
          "text": [
            "<ipython-input-58-0b6682f516d9>:1: RuntimeWarning: invalid value encountered in true_divide\n",
            "  arr / arr     #Here numpy gives a waring cos of 0 that is not divisible by 0. nan(not a number is ouputed)\n"
          ],
          "name": "stderr"
        },
        {
          "output_type": "execute_result",
          "data": {
            "text/plain": [
              "array([nan,  1.,  1.,  1.,  1.,  1.,  1.,  1.,  1.,  1.])"
            ]
          },
          "metadata": {
            "tags": []
          },
          "execution_count": 58
        }
      ]
    },
    {
      "cell_type": "code",
      "metadata": {
        "id": "S7WgM5EnPVLH",
        "outputId": "810c88ca-36a6-49ff-e3d6-36ef5da99e78"
      },
      "source": [
        "1 / arr"
      ],
      "execution_count": null,
      "outputs": [
        {
          "output_type": "stream",
          "text": [
            "<ipython-input-59-e66ae8057bc3>:1: RuntimeWarning: divide by zero encountered in true_divide\n",
            "  1 / arr\n"
          ],
          "name": "stderr"
        },
        {
          "output_type": "execute_result",
          "data": {
            "text/plain": [
              "array([       inf, 1.        , 0.5       , 0.33333333, 0.25      ,\n",
              "       0.2       , 0.16666667, 0.14285714, 0.125     , 0.11111111])"
            ]
          },
          "metadata": {
            "tags": []
          },
          "execution_count": 59
        }
      ]
    },
    {
      "cell_type": "code",
      "metadata": {
        "id": "9RLZ8rsePVLI",
        "outputId": "a80b00d1-0ed4-425b-c1b9-2b25d383b4ad"
      },
      "source": [
        "np.sqrt(arr)   #Square root of the array"
      ],
      "execution_count": null,
      "outputs": [
        {
          "output_type": "execute_result",
          "data": {
            "text/plain": [
              "array([0.        , 1.        , 1.41421356, 1.73205081, 2.        ,\n",
              "       2.23606798, 2.44948974, 2.64575131, 2.82842712, 3.        ])"
            ]
          },
          "metadata": {
            "tags": []
          },
          "execution_count": 60
        }
      ]
    },
    {
      "cell_type": "code",
      "metadata": {
        "id": "n27m3csFPVLJ",
        "outputId": "9e02addb-c332-4fd8-e0c9-d6b3c0ce1dc4"
      },
      "source": [
        "np.sin(arr)     #taking the sine of the array"
      ],
      "execution_count": null,
      "outputs": [
        {
          "output_type": "execute_result",
          "data": {
            "text/plain": [
              "array([ 0.        ,  0.84147098,  0.90929743,  0.14112001, -0.7568025 ,\n",
              "       -0.95892427, -0.2794155 ,  0.6569866 ,  0.98935825,  0.41211849])"
            ]
          },
          "metadata": {
            "tags": []
          },
          "execution_count": 61
        }
      ]
    },
    {
      "cell_type": "code",
      "metadata": {
        "id": "9rimYd26PVLK",
        "outputId": "d3db4340-c355-4bb9-f932-31a238f86249"
      },
      "source": [
        "np.log(arr)"
      ],
      "execution_count": null,
      "outputs": [
        {
          "output_type": "stream",
          "text": [
            "<ipython-input-62-a67b4ae04e95>:1: RuntimeWarning: divide by zero encountered in log\n",
            "  np.log(arr)\n"
          ],
          "name": "stderr"
        },
        {
          "output_type": "execute_result",
          "data": {
            "text/plain": [
              "array([      -inf, 0.        , 0.69314718, 1.09861229, 1.38629436,\n",
              "       1.60943791, 1.79175947, 1.94591015, 2.07944154, 2.19722458])"
            ]
          },
          "metadata": {
            "tags": []
          },
          "execution_count": 62
        }
      ]
    },
    {
      "cell_type": "code",
      "metadata": {
        "id": "OAEA6mxjPVLL",
        "outputId": "62ad8c09-b63c-43ad-f10c-b680e4ce0d86"
      },
      "source": [
        "arr"
      ],
      "execution_count": null,
      "outputs": [
        {
          "output_type": "execute_result",
          "data": {
            "text/plain": [
              "array([0, 1, 2, 3, 4, 5, 6, 7, 8, 9])"
            ]
          },
          "metadata": {
            "tags": []
          },
          "execution_count": 63
        }
      ]
    },
    {
      "cell_type": "code",
      "metadata": {
        "id": "Pc93tAr7PVLL",
        "outputId": "6194f6c3-2ba8-46d0-b5d8-a5eeec394c07"
      },
      "source": [
        "arr.sum()"
      ],
      "execution_count": null,
      "outputs": [
        {
          "output_type": "execute_result",
          "data": {
            "text/plain": [
              "45"
            ]
          },
          "metadata": {
            "tags": []
          },
          "execution_count": 64
        }
      ]
    },
    {
      "cell_type": "code",
      "metadata": {
        "id": "l1gzlYCkPVLR",
        "outputId": "c756585f-1d8d-4be1-9362-f24053432c0f"
      },
      "source": [
        "arr.mean()"
      ],
      "execution_count": null,
      "outputs": [
        {
          "output_type": "execute_result",
          "data": {
            "text/plain": [
              "4.5"
            ]
          },
          "metadata": {
            "tags": []
          },
          "execution_count": 65
        }
      ]
    },
    {
      "cell_type": "code",
      "metadata": {
        "id": "8e1Y76r5PVLT",
        "outputId": "d6305ed1-143d-4080-eba5-cae6478e1e8d"
      },
      "source": [
        "arr.max()"
      ],
      "execution_count": null,
      "outputs": [
        {
          "output_type": "execute_result",
          "data": {
            "text/plain": [
              "9"
            ]
          },
          "metadata": {
            "tags": []
          },
          "execution_count": 66
        }
      ]
    },
    {
      "cell_type": "code",
      "metadata": {
        "id": "kGTgQMyKPVLa",
        "outputId": "47bb22e4-da3a-4e22-a1fb-d41d48107195"
      },
      "source": [
        "arr.var()     #variance"
      ],
      "execution_count": null,
      "outputs": [
        {
          "output_type": "execute_result",
          "data": {
            "text/plain": [
              "8.25"
            ]
          },
          "metadata": {
            "tags": []
          },
          "execution_count": 67
        }
      ]
    },
    {
      "cell_type": "code",
      "metadata": {
        "id": "y9CuL23pPVLb",
        "outputId": "b5129a89-cc2d-4d28-ae89-7d49bf32a9bd"
      },
      "source": [
        "arr.std()     #standard deviation"
      ],
      "execution_count": null,
      "outputs": [
        {
          "output_type": "execute_result",
          "data": {
            "text/plain": [
              "2.8722813232690143"
            ]
          },
          "metadata": {
            "tags": []
          },
          "execution_count": 68
        }
      ]
    },
    {
      "cell_type": "code",
      "metadata": {
        "id": "SrGcbYOoPVLc",
        "outputId": "39fb5599-f068-49b0-f08b-a2774af40148"
      },
      "source": [
        "#Lets create a two d array\n",
        "np.arange(0, 25)"
      ],
      "execution_count": null,
      "outputs": [
        {
          "output_type": "execute_result",
          "data": {
            "text/plain": [
              "array([ 0,  1,  2,  3,  4,  5,  6,  7,  8,  9, 10, 11, 12, 13, 14, 15, 16,\n",
              "       17, 18, 19, 20, 21, 22, 23, 24])"
            ]
          },
          "metadata": {
            "tags": []
          },
          "execution_count": 69
        }
      ]
    },
    {
      "cell_type": "code",
      "metadata": {
        "id": "_Q8SfRs1PVLd",
        "outputId": "21d2689b-0d03-4a5f-bcdb-ad1bd0ed06dc"
      },
      "source": [
        "np.arange(0, 25).reshape(5, 5)"
      ],
      "execution_count": null,
      "outputs": [
        {
          "output_type": "execute_result",
          "data": {
            "text/plain": [
              "array([[ 0,  1,  2,  3,  4],\n",
              "       [ 5,  6,  7,  8,  9],\n",
              "       [10, 11, 12, 13, 14],\n",
              "       [15, 16, 17, 18, 19],\n",
              "       [20, 21, 22, 23, 24]])"
            ]
          },
          "metadata": {
            "tags": []
          },
          "execution_count": 71
        }
      ]
    },
    {
      "cell_type": "code",
      "metadata": {
        "id": "laFTq_FhPVLi"
      },
      "source": [
        "arr2d = np.arange(0, 25).reshape(5, 5)"
      ],
      "execution_count": null,
      "outputs": []
    },
    {
      "cell_type": "code",
      "metadata": {
        "id": "G6m1ojlSPVLj",
        "outputId": "49eba680-e239-4c22-aafa-34191b796e4c"
      },
      "source": [
        "arr2d.shape"
      ],
      "execution_count": null,
      "outputs": [
        {
          "output_type": "execute_result",
          "data": {
            "text/plain": [
              "(5, 5)"
            ]
          },
          "metadata": {
            "tags": []
          },
          "execution_count": 73
        }
      ]
    },
    {
      "cell_type": "code",
      "metadata": {
        "id": "7iv9FxdsPVLk",
        "outputId": "b0d5710c-322c-4cba-f7f4-c73ba41f3e2c"
      },
      "source": [
        "arr2d"
      ],
      "execution_count": null,
      "outputs": [
        {
          "output_type": "execute_result",
          "data": {
            "text/plain": [
              "array([[ 0,  1,  2,  3,  4],\n",
              "       [ 5,  6,  7,  8,  9],\n",
              "       [10, 11, 12, 13, 14],\n",
              "       [15, 16, 17, 18, 19],\n",
              "       [20, 21, 22, 23, 24]])"
            ]
          },
          "metadata": {
            "tags": []
          },
          "execution_count": 74
        }
      ]
    },
    {
      "cell_type": "code",
      "metadata": {
        "id": "0W3daiytPVLl",
        "outputId": "6f7f1c8b-66da-47a7-fcb0-7703cf6d9c0c"
      },
      "source": [
        "arr2d.sum()"
      ],
      "execution_count": null,
      "outputs": [
        {
          "output_type": "execute_result",
          "data": {
            "text/plain": [
              "300"
            ]
          },
          "metadata": {
            "tags": []
          },
          "execution_count": 75
        }
      ]
    },
    {
      "cell_type": "code",
      "metadata": {
        "id": "fp7t05BPPVLm",
        "outputId": "b19c4bf0-2b68-4473-f0f0-ffa7a28d1d86"
      },
      "source": [
        "arr2d.sum(axis = 0)  #Here we sum up each column, e.g 0+5+10+15+20=50 etc So axis = 0 means perform the operation across\n",
        "                      #the rows"
      ],
      "execution_count": null,
      "outputs": [
        {
          "output_type": "execute_result",
          "data": {
            "text/plain": [
              "array([50, 55, 60, 65, 70])"
            ]
          },
          "metadata": {
            "tags": []
          },
          "execution_count": 76
        }
      ]
    },
    {
      "cell_type": "code",
      "metadata": {
        "id": "1oMnF5G9PVLn",
        "outputId": "5eba1039-a8cd-4500-b8ab-ca1919990753"
      },
      "source": [
        "arr2d.sum(axis = 1)   #Here we sum up each row, e.g 0+1+2+3+4=10 etc So axis = 1 means perform the operation across\n",
        "                      #the index 1 of shape which is the column"
      ],
      "execution_count": null,
      "outputs": [
        {
          "output_type": "execute_result",
          "data": {
            "text/plain": [
              "array([ 10,  35,  60,  85, 110])"
            ]
          },
          "metadata": {
            "tags": []
          },
          "execution_count": 77
        }
      ]
    },
    {
      "cell_type": "code",
      "metadata": {
        "id": "tpi_nodbPVLo"
      },
      "source": [
        "\"\"\" A bank account has had withdrawals and deposits tracked in a numpy array called account_transactions. Based on this list\n",
        "of account transactions, what is the total remaining in the account? Assign your answer to a variable called account_total\n",
        "\"\"\"\n",
        "import numpy as np\n",
        "account_transactions = np.array([100,-200,300,-400,100,100,-230,450,500,2000])"
      ],
      "execution_count": null,
      "outputs": []
    },
    {
      "cell_type": "code",
      "metadata": {
        "id": "ZUNYvWFhPVLo"
      },
      "source": [
        "account_total = account_transactions.sum()"
      ],
      "execution_count": null,
      "outputs": []
    },
    {
      "cell_type": "code",
      "metadata": {
        "id": "hP88IaMpPVLp",
        "outputId": "fb3e4417-268c-4c07-e307-8806645b34d1"
      },
      "source": [
        "account_total"
      ],
      "execution_count": null,
      "outputs": [
        {
          "output_type": "execute_result",
          "data": {
            "text/plain": [
              "2720"
            ]
          },
          "metadata": {
            "tags": []
          },
          "execution_count": 80
        }
      ]
    },
    {
      "cell_type": "markdown",
      "metadata": {
        "id": "a8RIqjt0PVLq"
      },
      "source": [
        "## Numpy exercise"
      ]
    },
    {
      "cell_type": "code",
      "metadata": {
        "id": "ow6Y9CmdPVLr"
      },
      "source": [
        "import numpy as np"
      ],
      "execution_count": null,
      "outputs": []
    },
    {
      "cell_type": "code",
      "metadata": {
        "id": "jqs938nDPVLr",
        "outputId": "8b370a26-e2ed-403f-8006-7e8326b644d5"
      },
      "source": [
        "np.zeros(10)   #Created an array of 10 zeros"
      ],
      "execution_count": null,
      "outputs": [
        {
          "output_type": "execute_result",
          "data": {
            "text/plain": [
              "array([0., 0., 0., 0., 0., 0., 0., 0., 0., 0.])"
            ]
          },
          "metadata": {
            "tags": []
          },
          "execution_count": 82
        }
      ]
    },
    {
      "cell_type": "code",
      "metadata": {
        "id": "ba9UPZ5GPVLs",
        "outputId": "f3623255-2080-4de0-9714-bcab6865efe3"
      },
      "source": [
        "np.ones(10)     #Created an array of 10 ones"
      ],
      "execution_count": null,
      "outputs": [
        {
          "output_type": "execute_result",
          "data": {
            "text/plain": [
              "array([1., 1., 1., 1., 1., 1., 1., 1., 1., 1.])"
            ]
          },
          "metadata": {
            "tags": []
          },
          "execution_count": 83
        }
      ]
    },
    {
      "cell_type": "code",
      "metadata": {
        "id": "TaCxhYLMPVLt",
        "outputId": "a5fe9a76-58d8-41e5-be24-7be40fa3603d"
      },
      "source": [
        "np.ones(10) * 5   #Created an array of ten 5s"
      ],
      "execution_count": null,
      "outputs": [
        {
          "output_type": "execute_result",
          "data": {
            "text/plain": [
              "array([5., 5., 5., 5., 5., 5., 5., 5., 5., 5.])"
            ]
          },
          "metadata": {
            "tags": []
          },
          "execution_count": 84
        }
      ]
    },
    {
      "cell_type": "code",
      "metadata": {
        "id": "mz-3fMsBPVLy",
        "outputId": "cad72a82-948e-449e-fa88-1362a5fd31d0"
      },
      "source": [
        "np.arange(10, 51)  #Created an array of 10 to 50"
      ],
      "execution_count": null,
      "outputs": [
        {
          "output_type": "execute_result",
          "data": {
            "text/plain": [
              "array([10, 11, 12, 13, 14, 15, 16, 17, 18, 19, 20, 21, 22, 23, 24, 25, 26,\n",
              "       27, 28, 29, 30, 31, 32, 33, 34, 35, 36, 37, 38, 39, 40, 41, 42, 43,\n",
              "       44, 45, 46, 47, 48, 49, 50])"
            ]
          },
          "metadata": {
            "tags": []
          },
          "execution_count": 85
        }
      ]
    },
    {
      "cell_type": "code",
      "metadata": {
        "id": "9ZycnkuPPVLz",
        "outputId": "2b8c6c13-6dca-4990-90df-e7d3420f30e1"
      },
      "source": [
        "np.arange(10, 51, 2)   #An array of even numbers from 10 to 50"
      ],
      "execution_count": null,
      "outputs": [
        {
          "output_type": "execute_result",
          "data": {
            "text/plain": [
              "array([10, 12, 14, 16, 18, 20, 22, 24, 26, 28, 30, 32, 34, 36, 38, 40, 42,\n",
              "       44, 46, 48, 50])"
            ]
          },
          "metadata": {
            "tags": []
          },
          "execution_count": 86
        }
      ]
    },
    {
      "cell_type": "code",
      "metadata": {
        "id": "04VALxQYPVL0",
        "outputId": "36cdacc0-3838-45ae-e41f-4d4fd6e87125"
      },
      "source": [
        "np.arange(9)    #A 3x3 matrix with values ranging from 0 to 8"
      ],
      "execution_count": null,
      "outputs": [
        {
          "output_type": "execute_result",
          "data": {
            "text/plain": [
              "array([0, 1, 2, 3, 4, 5, 6, 7, 8])"
            ]
          },
          "metadata": {
            "tags": []
          },
          "execution_count": 87
        }
      ]
    },
    {
      "cell_type": "code",
      "metadata": {
        "id": "rAJlfERbPVL1",
        "outputId": "933727f3-e74e-4f9d-9547-73d16ad08adf"
      },
      "source": [
        "np.arange(9).reshape(3, 3)"
      ],
      "execution_count": null,
      "outputs": [
        {
          "output_type": "execute_result",
          "data": {
            "text/plain": [
              "array([[0, 1, 2],\n",
              "       [3, 4, 5],\n",
              "       [6, 7, 8]])"
            ]
          },
          "metadata": {
            "tags": []
          },
          "execution_count": 89
        }
      ]
    },
    {
      "cell_type": "code",
      "metadata": {
        "id": "RBLvCzPlPVL2",
        "outputId": "a0734ca7-e74e-421a-c70b-b4ce791ad9d6"
      },
      "source": [
        "arr = np.arange(9)\n",
        "arr.reshape (3, 3)                  #We are doing the 3x3 matrix but now stacking them"
      ],
      "execution_count": null,
      "outputs": [
        {
          "output_type": "execute_result",
          "data": {
            "text/plain": [
              "array([[0, 1, 2],\n",
              "       [3, 4, 5],\n",
              "       [6, 7, 8]])"
            ]
          },
          "metadata": {
            "tags": []
          },
          "execution_count": 90
        }
      ]
    },
    {
      "cell_type": "code",
      "metadata": {
        "id": "S2hyoJnBPVL3",
        "outputId": "564d97d9-4cf3-4788-ae26-54aca8db1ee5"
      },
      "source": [
        "np.eye(3)        # 3x3 identity matrix"
      ],
      "execution_count": null,
      "outputs": [
        {
          "output_type": "execute_result",
          "data": {
            "text/plain": [
              "array([[1., 0., 0.],\n",
              "       [0., 1., 0.],\n",
              "       [0., 0., 1.]])"
            ]
          },
          "metadata": {
            "tags": []
          },
          "execution_count": 91
        }
      ]
    },
    {
      "cell_type": "code",
      "metadata": {
        "id": "tvmJZCMNPVL4",
        "outputId": "4b1c6fb0-b416-4f60-e2a4-0a9f5c64233c"
      },
      "source": [
        "np.random.rand(1)                           #Generating a random number between 0 and 1"
      ],
      "execution_count": null,
      "outputs": [
        {
          "output_type": "execute_result",
          "data": {
            "text/plain": [
              "array([0.38118005])"
            ]
          },
          "metadata": {
            "tags": []
          },
          "execution_count": 92
        }
      ]
    },
    {
      "cell_type": "code",
      "metadata": {
        "id": "cmYsJB3FPVL5",
        "outputId": "2a43bfde-9967-46b3-8199-998470d80275"
      },
      "source": [
        "np.random.randn(25)               #Generating an array of 25 random numbers sampled from a standard normal distribution"
      ],
      "execution_count": null,
      "outputs": [
        {
          "output_type": "execute_result",
          "data": {
            "text/plain": [
              "array([-0.00468197, -0.12938831,  0.30596699,  1.25871004, -1.47170143,\n",
              "        1.50920291, -0.62528571,  0.49268505,  0.64897941,  1.24759568,\n",
              "        0.31321937,  0.63769478, -0.11967223, -0.53072808, -0.23642473,\n",
              "       -0.408794  ,  0.47069849,  0.5518691 ,  0.38740876,  1.17255168,\n",
              "       -2.15351101,  1.15357011,  1.43652978,  0.69207894,  0.16506005])"
            ]
          },
          "metadata": {
            "tags": []
          },
          "execution_count": 93
        }
      ]
    },
    {
      "cell_type": "code",
      "metadata": {
        "id": "m9_l0Yz4PVL6",
        "outputId": "b3d06dfc-b57e-439d-d2d7-57f5658cfd2f"
      },
      "source": [
        " np.arange(1, 101)                                    # create an array that steps with 0.1"
      ],
      "execution_count": null,
      "outputs": [
        {
          "output_type": "execute_result",
          "data": {
            "text/plain": [
              "array([  1,   2,   3,   4,   5,   6,   7,   8,   9,  10,  11,  12,  13,\n",
              "        14,  15,  16,  17,  18,  19,  20,  21,  22,  23,  24,  25,  26,\n",
              "        27,  28,  29,  30,  31,  32,  33,  34,  35,  36,  37,  38,  39,\n",
              "        40,  41,  42,  43,  44,  45,  46,  47,  48,  49,  50,  51,  52,\n",
              "        53,  54,  55,  56,  57,  58,  59,  60,  61,  62,  63,  64,  65,\n",
              "        66,  67,  68,  69,  70,  71,  72,  73,  74,  75,  76,  77,  78,\n",
              "        79,  80,  81,  82,  83,  84,  85,  86,  87,  88,  89,  90,  91,\n",
              "        92,  93,  94,  95,  96,  97,  98,  99, 100])"
            ]
          },
          "metadata": {
            "tags": []
          },
          "execution_count": 94
        }
      ]
    },
    {
      "cell_type": "code",
      "metadata": {
        "id": "ysfn6fhrPVL7",
        "outputId": "b2610454-f25e-42d8-a520-e34dc12e139d"
      },
      "source": [
        "np.arange(1, 101)/100   #notice this is one d array"
      ],
      "execution_count": null,
      "outputs": [
        {
          "output_type": "execute_result",
          "data": {
            "text/plain": [
              "array([0.01, 0.02, 0.03, 0.04, 0.05, 0.06, 0.07, 0.08, 0.09, 0.1 , 0.11,\n",
              "       0.12, 0.13, 0.14, 0.15, 0.16, 0.17, 0.18, 0.19, 0.2 , 0.21, 0.22,\n",
              "       0.23, 0.24, 0.25, 0.26, 0.27, 0.28, 0.29, 0.3 , 0.31, 0.32, 0.33,\n",
              "       0.34, 0.35, 0.36, 0.37, 0.38, 0.39, 0.4 , 0.41, 0.42, 0.43, 0.44,\n",
              "       0.45, 0.46, 0.47, 0.48, 0.49, 0.5 , 0.51, 0.52, 0.53, 0.54, 0.55,\n",
              "       0.56, 0.57, 0.58, 0.59, 0.6 , 0.61, 0.62, 0.63, 0.64, 0.65, 0.66,\n",
              "       0.67, 0.68, 0.69, 0.7 , 0.71, 0.72, 0.73, 0.74, 0.75, 0.76, 0.77,\n",
              "       0.78, 0.79, 0.8 , 0.81, 0.82, 0.83, 0.84, 0.85, 0.86, 0.87, 0.88,\n",
              "       0.89, 0.9 , 0.91, 0.92, 0.93, 0.94, 0.95, 0.96, 0.97, 0.98, 0.99,\n",
              "       1.  ])"
            ]
          },
          "metadata": {
            "tags": []
          },
          "execution_count": 95
        }
      ]
    },
    {
      "cell_type": "code",
      "metadata": {
        "id": "LB__jWO1PVL8",
        "outputId": "d54d4718-b53e-40dd-aec3-22a178864938"
      },
      "source": [
        "arr = np.arange(1, 101)/100     #we just reshape it\n",
        "arr.reshape(10, 10)"
      ],
      "execution_count": null,
      "outputs": [
        {
          "output_type": "execute_result",
          "data": {
            "text/plain": [
              "array([[0.01, 0.02, 0.03, 0.04, 0.05, 0.06, 0.07, 0.08, 0.09, 0.1 ],\n",
              "       [0.11, 0.12, 0.13, 0.14, 0.15, 0.16, 0.17, 0.18, 0.19, 0.2 ],\n",
              "       [0.21, 0.22, 0.23, 0.24, 0.25, 0.26, 0.27, 0.28, 0.29, 0.3 ],\n",
              "       [0.31, 0.32, 0.33, 0.34, 0.35, 0.36, 0.37, 0.38, 0.39, 0.4 ],\n",
              "       [0.41, 0.42, 0.43, 0.44, 0.45, 0.46, 0.47, 0.48, 0.49, 0.5 ],\n",
              "       [0.51, 0.52, 0.53, 0.54, 0.55, 0.56, 0.57, 0.58, 0.59, 0.6 ],\n",
              "       [0.61, 0.62, 0.63, 0.64, 0.65, 0.66, 0.67, 0.68, 0.69, 0.7 ],\n",
              "       [0.71, 0.72, 0.73, 0.74, 0.75, 0.76, 0.77, 0.78, 0.79, 0.8 ],\n",
              "       [0.81, 0.82, 0.83, 0.84, 0.85, 0.86, 0.87, 0.88, 0.89, 0.9 ],\n",
              "       [0.91, 0.92, 0.93, 0.94, 0.95, 0.96, 0.97, 0.98, 0.99, 1.  ]])"
            ]
          },
          "metadata": {
            "tags": []
          },
          "execution_count": 96
        }
      ]
    },
    {
      "cell_type": "code",
      "metadata": {
        "id": "JQQ5gvLpPVL9",
        "outputId": "142ec7a3-a83a-4fe3-cdf7-526f753900f5"
      },
      "source": [
        "np.linspace(0, 1, 20)                                #An array of linearly spaced points between 0 ans 1"
      ],
      "execution_count": null,
      "outputs": [
        {
          "output_type": "execute_result",
          "data": {
            "text/plain": [
              "array([0.        , 0.05263158, 0.10526316, 0.15789474, 0.21052632,\n",
              "       0.26315789, 0.31578947, 0.36842105, 0.42105263, 0.47368421,\n",
              "       0.52631579, 0.57894737, 0.63157895, 0.68421053, 0.73684211,\n",
              "       0.78947368, 0.84210526, 0.89473684, 0.94736842, 1.        ])"
            ]
          },
          "metadata": {
            "tags": []
          },
          "execution_count": 97
        }
      ]
    },
    {
      "cell_type": "code",
      "metadata": {
        "id": "I6miJ1FDPVL-",
        "outputId": "42fd0936-ecfd-43a7-c19a-b8cf99de40e4"
      },
      "source": [
        "mat = np.arange(1, 26).reshape(5,5)\n",
        "mat"
      ],
      "execution_count": null,
      "outputs": [
        {
          "output_type": "execute_result",
          "data": {
            "text/plain": [
              "array([[ 1,  2,  3,  4,  5],\n",
              "       [ 6,  7,  8,  9, 10],\n",
              "       [11, 12, 13, 14, 15],\n",
              "       [16, 17, 18, 19, 20],\n",
              "       [21, 22, 23, 24, 25]])"
            ]
          },
          "metadata": {
            "tags": []
          },
          "execution_count": 98
        }
      ]
    },
    {
      "cell_type": "code",
      "metadata": {
        "id": "igpBa23gPVMD",
        "outputId": "042b9d38-3d88-4ca1-a661-48343e62a377"
      },
      "source": [
        "mat[2:]                        # Here we want to grab row 2 downward"
      ],
      "execution_count": null,
      "outputs": [
        {
          "output_type": "execute_result",
          "data": {
            "text/plain": [
              "array([[11, 12, 13, 14, 15],\n",
              "       [16, 17, 18, 19, 20],\n",
              "       [21, 22, 23, 24, 25]])"
            ]
          },
          "metadata": {
            "tags": []
          },
          "execution_count": 99
        }
      ]
    },
    {
      "cell_type": "code",
      "metadata": {
        "id": "ITXwYEwXPVME",
        "outputId": "537e3955-b87d-4e39-e143-f95ad0906e14"
      },
      "source": [
        " mat[2:, 1:]                              # Here we want to grab row 2 and col 1 downward"
      ],
      "execution_count": null,
      "outputs": [
        {
          "output_type": "execute_result",
          "data": {
            "text/plain": [
              "array([[12, 13, 14, 15],\n",
              "       [17, 18, 19, 20],\n",
              "       [22, 23, 24, 25]])"
            ]
          },
          "metadata": {
            "tags": []
          },
          "execution_count": 103
        }
      ]
    },
    {
      "cell_type": "code",
      "metadata": {
        "id": "N7TjpTOmPVMF",
        "outputId": "c6897535-a21b-41bd-eb05-89218d872695"
      },
      "source": [
        "mat[3, 4]                      # index location of 20"
      ],
      "execution_count": null,
      "outputs": [
        {
          "output_type": "execute_result",
          "data": {
            "text/plain": [
              "20"
            ]
          },
          "metadata": {
            "tags": []
          },
          "execution_count": 105
        }
      ]
    },
    {
      "cell_type": "code",
      "metadata": {
        "id": "ZScbvW3KPVMG",
        "outputId": "25caefbe-e802-4247-cb0a-ef835539f575"
      },
      "source": [
        "mat[:3, 1:2]              #write code that produce 2, 7, 12. We use slicing not 1 but not including 2 to maintain the form"
      ],
      "execution_count": null,
      "outputs": [
        {
          "output_type": "execute_result",
          "data": {
            "text/plain": [
              "array([[ 2],\n",
              "       [ 7],\n",
              "       [12]])"
            ]
          },
          "metadata": {
            "tags": []
          },
          "execution_count": 107
        }
      ]
    },
    {
      "cell_type": "code",
      "metadata": {
        "id": "WTH7r2QhPVMH",
        "outputId": "bb7ebe51-267f-4710-eae4-c51b60dab27d"
      },
      "source": [
        "mat[:3, 1]"
      ],
      "execution_count": null,
      "outputs": [
        {
          "output_type": "execute_result",
          "data": {
            "text/plain": [
              "array([ 2,  7, 12])"
            ]
          },
          "metadata": {
            "tags": []
          },
          "execution_count": 108
        }
      ]
    },
    {
      "cell_type": "code",
      "metadata": {
        "id": "pKdYxIXGPVMJ",
        "outputId": "e444aa68-72d7-4cff-e79d-546308fd95b5"
      },
      "source": [
        "mat[4,:]   #The last row"
      ],
      "execution_count": null,
      "outputs": [
        {
          "output_type": "execute_result",
          "data": {
            "text/plain": [
              "array([21, 22, 23, 24, 25])"
            ]
          },
          "metadata": {
            "tags": []
          },
          "execution_count": 109
        }
      ]
    },
    {
      "cell_type": "code",
      "metadata": {
        "id": "u8bLTzNePVMK",
        "outputId": "2206abeb-ff19-4f09-c334-ea81201ede98"
      },
      "source": [
        "#Alternatively written as\n",
        "mat[4]"
      ],
      "execution_count": null,
      "outputs": [
        {
          "output_type": "execute_result",
          "data": {
            "text/plain": [
              "array([21, 22, 23, 24, 25])"
            ]
          },
          "metadata": {
            "tags": []
          },
          "execution_count": 110
        }
      ]
    },
    {
      "cell_type": "code",
      "metadata": {
        "id": "zh0Xe6NMPVML",
        "outputId": "693f9cbc-d2db-42c7-c225-af451b88ce23"
      },
      "source": [
        "mat"
      ],
      "execution_count": null,
      "outputs": [
        {
          "output_type": "execute_result",
          "data": {
            "text/plain": [
              "array([[ 1,  2,  3,  4,  5],\n",
              "       [ 6,  7,  8,  9, 10],\n",
              "       [11, 12, 13, 14, 15],\n",
              "       [16, 17, 18, 19, 20],\n",
              "       [21, 22, 23, 24, 25]])"
            ]
          },
          "metadata": {
            "tags": []
          },
          "execution_count": 111
        }
      ]
    },
    {
      "cell_type": "code",
      "metadata": {
        "id": "2lyeS8VVPVMN",
        "outputId": "4f5d47f5-7ca3-403c-a730-d2b0f920bae2"
      },
      "source": [
        "mat[3:5]"
      ],
      "execution_count": null,
      "outputs": [
        {
          "output_type": "execute_result",
          "data": {
            "text/plain": [
              "array([[16, 17, 18, 19, 20],\n",
              "       [21, 22, 23, 24, 25]])"
            ]
          },
          "metadata": {
            "tags": []
          },
          "execution_count": 112
        }
      ]
    },
    {
      "cell_type": "code",
      "metadata": {
        "id": "VlkD-bzfPVMO",
        "outputId": "3731f0fc-fd92-4ef6-ae03-da320c16aecb"
      },
      "source": [
        "mat.sum()"
      ],
      "execution_count": null,
      "outputs": [
        {
          "output_type": "execute_result",
          "data": {
            "text/plain": [
              "325"
            ]
          },
          "metadata": {
            "tags": []
          },
          "execution_count": 113
        }
      ]
    },
    {
      "cell_type": "code",
      "metadata": {
        "id": "SvBwp5voPVMP",
        "outputId": "ed83756a-a9c4-4f06-a918-ee581802455b"
      },
      "source": [
        "mat.std()"
      ],
      "execution_count": null,
      "outputs": [
        {
          "output_type": "execute_result",
          "data": {
            "text/plain": [
              "7.211102550927978"
            ]
          },
          "metadata": {
            "tags": []
          },
          "execution_count": 114
        }
      ]
    },
    {
      "cell_type": "code",
      "metadata": {
        "id": "AqJXIR-OPVMU",
        "outputId": "93523b89-28cf-4a71-c82d-27faebf8aac8"
      },
      "source": [
        "#to get the sum of all the column\n",
        "mat.sum(axis = 0)"
      ],
      "execution_count": null,
      "outputs": [
        {
          "output_type": "execute_result",
          "data": {
            "text/plain": [
              "array([55, 60, 65, 70, 75])"
            ]
          },
          "metadata": {
            "tags": []
          },
          "execution_count": 115
        }
      ]
    },
    {
      "cell_type": "code",
      "metadata": {
        "id": "ihPLNfY3PVMV",
        "outputId": "4839f343-c074-496e-a8d3-691021329c22"
      },
      "source": [
        "np.random.seed(101)\n",
        "np.random.rand(2)                           #Making sure we always get the same random number"
      ],
      "execution_count": null,
      "outputs": [
        {
          "output_type": "execute_result",
          "data": {
            "text/plain": [
              "array([0.51639863, 0.57066759])"
            ]
          },
          "metadata": {
            "tags": []
          },
          "execution_count": 118
        }
      ]
    },
    {
      "cell_type": "markdown",
      "metadata": {
        "id": "0_Mk-wwVPVMV"
      },
      "source": [
        "## Indexing and Slicing "
      ]
    },
    {
      "cell_type": "code",
      "metadata": {
        "id": "I5JDoLnDPVMW"
      },
      "source": [
        "import numpy as np"
      ],
      "execution_count": null,
      "outputs": []
    },
    {
      "cell_type": "code",
      "metadata": {
        "id": "BvUgmvUiPVMX"
      },
      "source": [
        "arr = np.array([[[1, 2, 3], [4, 5, 6], [7, 8, 9], [0, 11, 12]]]) #This is a three d array looking at the square bracket"
      ],
      "execution_count": null,
      "outputs": []
    },
    {
      "cell_type": "code",
      "metadata": {
        "id": "1jFfCAHPPVMX",
        "outputId": "4e9cd392-92f0-4187-f23e-e313c2e6a50d"
      },
      "source": [
        "arr"
      ],
      "execution_count": null,
      "outputs": [
        {
          "output_type": "execute_result",
          "data": {
            "text/plain": [
              "array([[[ 1,  2,  3],\n",
              "        [ 4,  5,  6],\n",
              "        [ 7,  8,  9],\n",
              "        [ 0, 11, 12]]])"
            ]
          },
          "metadata": {
            "tags": []
          },
          "execution_count": 26
        }
      ]
    },
    {
      "cell_type": "code",
      "metadata": {
        "id": "x2orsWCyPVMY",
        "outputId": "b217dabd-6934-410b-a1f2-5eda4b15c469"
      },
      "source": [
        "arr.shape"
      ],
      "execution_count": null,
      "outputs": [
        {
          "output_type": "execute_result",
          "data": {
            "text/plain": [
              "(1, 4, 3)"
            ]
          },
          "metadata": {
            "tags": []
          },
          "execution_count": 28
        }
      ]
    },
    {
      "cell_type": "code",
      "metadata": {
        "id": "5NOifs0bPVMZ",
        "outputId": "14c8edf4-66b5-400c-de27-21533be20bcb"
      },
      "source": [
        "arr[0, 2, 1] #Here we called the 2nd array(7,8,9) and the index 1 that array"
      ],
      "execution_count": null,
      "outputs": [
        {
          "output_type": "execute_result",
          "data": {
            "text/plain": [
              "8"
            ]
          },
          "metadata": {
            "tags": []
          },
          "execution_count": 31
        }
      ]
    },
    {
      "cell_type": "code",
      "metadata": {
        "id": "HwkCj5-0PVMa",
        "outputId": "dce2e7c7-6385-4f44-f65a-80e0ac77083b"
      },
      "source": [
        "#Slicing has :\n",
        "arr = np.array([1, 2, 3, 4, 5])\n",
        "arr[1:3]"
      ],
      "execution_count": null,
      "outputs": [
        {
          "output_type": "execute_result",
          "data": {
            "text/plain": [
              "array([2, 3])"
            ]
          },
          "metadata": {
            "tags": []
          },
          "execution_count": 32
        }
      ]
    },
    {
      "cell_type": "code",
      "metadata": {
        "id": "_T1rg9oBPVMb",
        "outputId": "edd4e5d0-c735-4199-82ed-479c360121bb"
      },
      "source": [
        "arr = np.array([1, 2, 3, 4, 5, 6, 7])\n",
        "arr[4:]"
      ],
      "execution_count": null,
      "outputs": [
        {
          "output_type": "execute_result",
          "data": {
            "text/plain": [
              "array([5, 6, 7])"
            ]
          },
          "metadata": {
            "tags": []
          },
          "execution_count": 39
        }
      ]
    },
    {
      "cell_type": "code",
      "metadata": {
        "id": "ZvTGIev6PVMd",
        "outputId": "0c16db89-d70c-47cd-9196-76a7d0355034"
      },
      "source": [
        "arr[:4]"
      ],
      "execution_count": null,
      "outputs": [
        {
          "output_type": "execute_result",
          "data": {
            "text/plain": [
              "array([1, 2, 3, 4])"
            ]
          },
          "metadata": {
            "tags": []
          },
          "execution_count": 41
        }
      ]
    },
    {
      "cell_type": "code",
      "metadata": {
        "id": "FJKrN7a9PVMe",
        "outputId": "19ed80e4-85bc-4b23-84cf-5e2efa4ea374"
      },
      "source": [
        "arr[::2]"
      ],
      "execution_count": null,
      "outputs": [
        {
          "output_type": "execute_result",
          "data": {
            "text/plain": [
              "array([1, 3, 5, 7])"
            ]
          },
          "metadata": {
            "tags": []
          },
          "execution_count": 43
        }
      ]
    },
    {
      "cell_type": "code",
      "metadata": {
        "id": "6Lu5xvCXPVMj",
        "outputId": "f56ae130-a0d9-474b-be03-203fa9343cf3"
      },
      "source": [
        "arr = np.array([[1, 2, 3, 4, 5], [6, 7, 8, 9, 0]])\n",
        "arr[:, 4]"
      ],
      "execution_count": null,
      "outputs": [
        {
          "output_type": "execute_result",
          "data": {
            "text/plain": [
              "array([5, 0])"
            ]
          },
          "metadata": {
            "tags": []
          },
          "execution_count": 34
        }
      ]
    },
    {
      "cell_type": "code",
      "metadata": {
        "id": "WpAPuaOyPVMk",
        "outputId": "0b975d3c-6fdb-4938-bc84-fa0799e2f238"
      },
      "source": [
        "arr[0, :] #Whenever we see \":\", it is all element involved. Here we chose the 1st index"
      ],
      "execution_count": null,
      "outputs": [
        {
          "output_type": "execute_result",
          "data": {
            "text/plain": [
              "array([1, 2, 3, 4, 5])"
            ]
          },
          "metadata": {
            "tags": []
          },
          "execution_count": 35
        }
      ]
    },
    {
      "cell_type": "code",
      "metadata": {
        "id": "ocQkgFU_PVMl",
        "outputId": "d5d52e5a-e1d2-494f-b580-954f1040a9de"
      },
      "source": [
        "arr = np.array([[1, 2, 3, 4, 5, 6, 7, 8],[0, 11, 12, 13, 14, 15, 16, 17]])\n",
        "arr[0, 1:6:2] #picked the 1st array, sliced from 1 to 6 and stepped by 2"
      ],
      "execution_count": null,
      "outputs": [
        {
          "output_type": "execute_result",
          "data": {
            "text/plain": [
              "array([2, 4, 6])"
            ]
          },
          "metadata": {
            "tags": []
          },
          "execution_count": 38
        }
      ]
    },
    {
      "cell_type": "markdown",
      "metadata": {
        "id": "i2jPlVeWPVMm"
      },
      "source": [
        "### Sorting, Search, Split and Join"
      ]
    },
    {
      "cell_type": "code",
      "metadata": {
        "id": "jtiqXwtZPVMn"
      },
      "source": [
        "import numpy as np"
      ],
      "execution_count": null,
      "outputs": []
    },
    {
      "cell_type": "code",
      "metadata": {
        "id": "_msdap_vPVMo",
        "outputId": "53cee7e6-e205-4e2f-8a0f-b4dddf82387b"
      },
      "source": [
        "a = np.array([2, 5, 1, 6, 4, 3])   #Sorting\n",
        "np.sort(a)"
      ],
      "execution_count": null,
      "outputs": [
        {
          "output_type": "execute_result",
          "data": {
            "text/plain": [
              "array([1, 2, 3, 4, 5, 6])"
            ]
          },
          "metadata": {
            "tags": []
          },
          "execution_count": 2
        }
      ]
    },
    {
      "cell_type": "code",
      "metadata": {
        "id": "F68kTd0nPVMp",
        "outputId": "694e17a5-e6f5-47ea-9ad7-54a31bba08a4"
      },
      "source": [
        "a = np.array(['Carrot', 'Banana', 'Apple', 'Tumeric'])   #Sorting\n",
        "np.sort(a)"
      ],
      "execution_count": null,
      "outputs": [
        {
          "output_type": "execute_result",
          "data": {
            "text/plain": [
              "array(['Apple', 'Banana', 'Carrot', 'Tumeric'], dtype='<U7')"
            ]
          },
          "metadata": {
            "tags": []
          },
          "execution_count": 3
        }
      ]
    },
    {
      "cell_type": "code",
      "metadata": {
        "id": "6PFWGfnsPVMq",
        "outputId": "2a13b03f-2054-4456-de19-ad7b76761ec6"
      },
      "source": [
        "a = np.array([[2, 5, 1, 6, 3], [45, 23, 21, 67, 19]])   #Sorting\n",
        "np.sort(a)"
      ],
      "execution_count": null,
      "outputs": [
        {
          "output_type": "execute_result",
          "data": {
            "text/plain": [
              "array([[ 1,  2,  3,  5,  6],\n",
              "       [19, 21, 23, 45, 67]])"
            ]
          },
          "metadata": {
            "tags": []
          },
          "execution_count": 4
        }
      ]
    },
    {
      "cell_type": "code",
      "metadata": {
        "id": "GrUf4uOjPVMq",
        "outputId": "b72b65ad-0684-4d53-c9ad-2df5e245973d"
      },
      "source": [
        "a = np.array([2, 5, 1, 6, 4, 3])   #Searching\n",
        "x = np.where(a == 6)\n",
        "x"
      ],
      "execution_count": null,
      "outputs": [
        {
          "output_type": "execute_result",
          "data": {
            "text/plain": [
              "(array([3]),)"
            ]
          },
          "metadata": {
            "tags": []
          },
          "execution_count": 5
        }
      ]
    },
    {
      "cell_type": "code",
      "metadata": {
        "id": "QBFhIRyvPVMr",
        "outputId": "c3c6000f-acd4-4c3f-d537-9d218aa9eb97"
      },
      "source": [
        "a = np.array([2, 5, 1, 6, 4, 3])   #Searching\n",
        "x = np.where(a % 2 == 1)\n",
        "x"
      ],
      "execution_count": null,
      "outputs": [
        {
          "output_type": "execute_result",
          "data": {
            "text/plain": [
              "(array([1, 2, 5]),)"
            ]
          },
          "metadata": {
            "tags": []
          },
          "execution_count": 6
        }
      ]
    },
    {
      "cell_type": "code",
      "metadata": {
        "id": "URwCXI3_PVMs",
        "outputId": "87b31984-6e4a-44c9-b4e8-22b9468a7c20"
      },
      "source": [
        "a = np.array([2, 5, 1, 6, 4, 3])   #Searching\n",
        "x = np.where(a % 2 == 0)\n",
        "x"
      ],
      "execution_count": null,
      "outputs": [
        {
          "output_type": "execute_result",
          "data": {
            "text/plain": [
              "(array([0, 3, 4]),)"
            ]
          },
          "metadata": {
            "tags": []
          },
          "execution_count": 7
        }
      ]
    },
    {
      "cell_type": "code",
      "metadata": {
        "id": "YZ6dqC66PVMt",
        "outputId": "28015254-caa8-4f22-8845-51fa46b83747"
      },
      "source": [
        "a = np.array([2, 5, 1, 6, 4, 3])   #Searching\n",
        "x = np.searchsorted(a, 1)\n",
        "x"
      ],
      "execution_count": null,
      "outputs": [
        {
          "output_type": "execute_result",
          "data": {
            "text/plain": [
              "0"
            ]
          },
          "metadata": {
            "tags": []
          },
          "execution_count": 8
        }
      ]
    },
    {
      "cell_type": "code",
      "metadata": {
        "id": "cN3TB77UPVMu",
        "outputId": "3beff9ec-2152-4081-fb0d-422ec04e4092"
      },
      "source": [
        "a = np.array([2, 5, 1, 6, 4, 3])   #Searching. We can determine which side to start from\n",
        "x = np.searchsorted(a, 4, side = 'right')\n",
        "x"
      ],
      "execution_count": null,
      "outputs": [
        {
          "output_type": "execute_result",
          "data": {
            "text/plain": [
              "1"
            ]
          },
          "metadata": {
            "tags": []
          },
          "execution_count": 11
        }
      ]
    },
    {
      "cell_type": "code",
      "metadata": {
        "id": "69tCSxRXPVM1",
        "outputId": "8a7b0b01-fea5-40ae-8e18-ea7242e85c9d"
      },
      "source": [
        "a = np.array([2, 5, 1, 6, 4, 3]) #Spliting\n",
        "new = np.array_split(a, 3)\n",
        "new"
      ],
      "execution_count": null,
      "outputs": [
        {
          "output_type": "execute_result",
          "data": {
            "text/plain": [
              "[array([2, 5]), array([1, 6]), array([4, 3])]"
            ]
          },
          "metadata": {
            "tags": []
          },
          "execution_count": 12
        }
      ]
    },
    {
      "cell_type": "code",
      "metadata": {
        "id": "Rh-tChZ6PVM2",
        "outputId": "e680a25e-5984-423c-9d34-f8230e409e8a"
      },
      "source": [
        "a = np.array([2, 5, 1, 6, 4, 3]) #Spliting\n",
        "new = np.array_split(a, 3)\n",
        "new[0]"
      ],
      "execution_count": null,
      "outputs": [
        {
          "output_type": "execute_result",
          "data": {
            "text/plain": [
              "array([2, 5])"
            ]
          },
          "metadata": {
            "tags": []
          },
          "execution_count": 13
        }
      ]
    },
    {
      "cell_type": "code",
      "metadata": {
        "id": "zy19Cac0PVM3",
        "outputId": "1fcb6f15-f59c-4aab-ef47-6204ee66aee3"
      },
      "source": [
        "a = np.array([[1,2,3], [5,6,7], [9,10,11], [8,12,13], [14,15,16], [17,18,19]])\n",
        "new = np.hsplit(a, 3)    #Horizontal split\n",
        "new"
      ],
      "execution_count": null,
      "outputs": [
        {
          "output_type": "execute_result",
          "data": {
            "text/plain": [
              "[array([[ 1],\n",
              "        [ 5],\n",
              "        [ 9],\n",
              "        [ 8],\n",
              "        [14],\n",
              "        [17]]),\n",
              " array([[ 2],\n",
              "        [ 6],\n",
              "        [10],\n",
              "        [12],\n",
              "        [15],\n",
              "        [18]]),\n",
              " array([[ 3],\n",
              "        [ 7],\n",
              "        [11],\n",
              "        [13],\n",
              "        [16],\n",
              "        [19]])]"
            ]
          },
          "metadata": {
            "tags": []
          },
          "execution_count": 15
        }
      ]
    },
    {
      "cell_type": "code",
      "metadata": {
        "id": "sMYr6wYvPVM4",
        "outputId": "0ec62f70-1249-45e1-e702-40336e3c9893"
      },
      "source": [
        "a = np.array([[1,2,3], [5,6,7], [9,10,11], [8,12,13], [14,15,16], [17,18,19]])\n",
        "new = np.vsplit(a, 3)    #Vertical split\n",
        "new"
      ],
      "execution_count": null,
      "outputs": [
        {
          "output_type": "execute_result",
          "data": {
            "text/plain": [
              "[array([[1, 2, 3],\n",
              "        [5, 6, 7]]),\n",
              " array([[ 9, 10, 11],\n",
              "        [ 8, 12, 13]]),\n",
              " array([[14, 15, 16],\n",
              "        [17, 18, 19]])]"
            ]
          },
          "metadata": {
            "tags": []
          },
          "execution_count": 16
        }
      ]
    },
    {
      "cell_type": "code",
      "metadata": {
        "id": "G7wkkvaQPVM5"
      },
      "source": [
        "a1 = np.array([1,2,3]) #Joining\n",
        "a2 = np.array([5,6,7]) \n",
        "arr = np.concatenate((a1, a2))"
      ],
      "execution_count": null,
      "outputs": []
    },
    {
      "cell_type": "code",
      "metadata": {
        "id": "HiHz6qz8PVM6",
        "outputId": "bbf4145f-8105-43ea-94e0-e7e13a1d5d81"
      },
      "source": [
        "arr"
      ],
      "execution_count": null,
      "outputs": [
        {
          "output_type": "execute_result",
          "data": {
            "text/plain": [
              "array([1, 2, 3, 5, 6, 7])"
            ]
          },
          "metadata": {
            "tags": []
          },
          "execution_count": 19
        }
      ]
    },
    {
      "cell_type": "code",
      "metadata": {
        "id": "Aa50Pfb9PVM8"
      },
      "source": [
        "a1 = np.array([[1,2],[3,4]]) \n",
        "a2 = np.array([[5,6],[7,8]]) \n",
        "arr = np.concatenate((a1, a2), axis = 0)"
      ],
      "execution_count": null,
      "outputs": []
    },
    {
      "cell_type": "code",
      "metadata": {
        "id": "K-gSNQrMPVM9",
        "outputId": "cbd9263e-8945-4f98-cc6d-eb9014c9a03c"
      },
      "source": [
        "arr"
      ],
      "execution_count": null,
      "outputs": [
        {
          "output_type": "execute_result",
          "data": {
            "text/plain": [
              "array([[1, 2],\n",
              "       [3, 4],\n",
              "       [5, 6],\n",
              "       [7, 8]])"
            ]
          },
          "metadata": {
            "tags": []
          },
          "execution_count": 22
        }
      ]
    },
    {
      "cell_type": "code",
      "metadata": {
        "id": "Tp5oCdHCPVM-"
      },
      "source": [
        "a1 = np.array([[1,2],[3,4]]) \n",
        "a2 = np.array([[5,6],[7,8]]) \n",
        "arr = np.concatenate((a1, a2), axis = 1)"
      ],
      "execution_count": null,
      "outputs": []
    },
    {
      "cell_type": "code",
      "metadata": {
        "id": "ZPXq1clBPVM-"
      },
      "source": [
        "a1 = np.array([1,2,3]) \n",
        "a2 = np.array([5,6,7]) \n",
        "arr = np.stack((a1, a2), axis=0)"
      ],
      "execution_count": null,
      "outputs": []
    },
    {
      "cell_type": "code",
      "metadata": {
        "id": "hcweLkZVPVM_",
        "outputId": "e3782fca-cfed-49c2-973b-fb1a7e203fc3"
      },
      "source": [
        "arr"
      ],
      "execution_count": null,
      "outputs": [
        {
          "output_type": "execute_result",
          "data": {
            "text/plain": [
              "array([[1, 2, 3],\n",
              "       [5, 6, 7]])"
            ]
          },
          "metadata": {
            "tags": []
          },
          "execution_count": 25
        }
      ]
    },
    {
      "cell_type": "code",
      "metadata": {
        "id": "0-nlx0DDPVNA",
        "outputId": "8547c045-9631-424b-ccb5-66e3196dc873"
      },
      "source": [
        "a1 = np.array([1,2,3]) \n",
        "a2 = np.array([5,6,7]) \n",
        "arr = np.stack((a1, a2), axis=1)\n",
        "arr"
      ],
      "execution_count": null,
      "outputs": [
        {
          "output_type": "execute_result",
          "data": {
            "text/plain": [
              "array([[1, 5],\n",
              "       [2, 6],\n",
              "       [3, 7]])"
            ]
          },
          "metadata": {
            "tags": []
          },
          "execution_count": 26
        }
      ]
    },
    {
      "cell_type": "code",
      "metadata": {
        "id": "oCnTIKBWPVNC",
        "outputId": "dafe122a-22b7-411d-8e94-a47836081232"
      },
      "source": [
        "a1 = np.array([1,2,3]) #Instead of axis 0\n",
        "a2 = np.array([5,6,7]) \n",
        "arr = np.hstack((a1, a2))\n",
        "arr"
      ],
      "execution_count": null,
      "outputs": [
        {
          "output_type": "execute_result",
          "data": {
            "text/plain": [
              "array([1, 2, 3, 5, 6, 7])"
            ]
          },
          "metadata": {
            "tags": []
          },
          "execution_count": 28
        }
      ]
    },
    {
      "cell_type": "code",
      "metadata": {
        "id": "GKBZ_Y1sPVNE",
        "outputId": "1a53c319-452d-4014-e65e-efbfb295d9c5"
      },
      "source": [
        "a1 = np.array([1,2,3]) #Instead of axis 1\n",
        "a2 = np.array([5,6,7]) \n",
        "arr = np.vstack((a1, a2))\n",
        "arr"
      ],
      "execution_count": null,
      "outputs": [
        {
          "output_type": "execute_result",
          "data": {
            "text/plain": [
              "array([[1, 2, 3],\n",
              "       [5, 6, 7]])"
            ]
          },
          "metadata": {
            "tags": []
          },
          "execution_count": 29
        }
      ]
    },
    {
      "cell_type": "code",
      "metadata": {
        "id": "TAsS18PQPVNF"
      },
      "source": [
        "import matplotlib.pyplot as plt"
      ],
      "execution_count": null,
      "outputs": []
    },
    {
      "cell_type": "code",
      "metadata": {
        "id": "7_mXVutRPVNG",
        "outputId": "83330b9f-1efe-455c-8ee2-6b30dc8383a7"
      },
      "source": [
        "x = np.arange(1, 11)\n",
        "y = 2 * x + 5\n",
        "plt.title('Matplotlib demo graph')\n",
        "plt.xlabel('x Axis')\n",
        "plt.ylabel('y Axis')\n",
        "plt.plot(x, y)\n",
        "plt.show()"
      ],
      "execution_count": null,
      "outputs": [
        {
          "output_type": "display_data",
          "data": {
            "image/png": "[encoded data removed]",
            "text/plain": [
              "<Figure size 432x288 with 1 Axes>"
            ]
          },
          "metadata": {
            "tags": [],
            "needs_background": "light"
          }
        }
      ]
    },
    {
      "cell_type": "code",
      "metadata": {
        "id": "cy9Wvr5gPVNH",
        "outputId": "efa9847b-704b-4c93-b37b-f737f7f4c428"
      },
      "source": [
        "x = np.arange(1, 11)\n",
        "y = 2 * x + 5\n",
        "plt.title('Matplotlib demo graph')\n",
        "plt.xlabel('x Axis')\n",
        "plt.ylabel('y Axis')\n",
        "plt.plot(x, y, 'ob')\n",
        "plt.show()"
      ],
      "execution_count": null,
      "outputs": [
        {
          "output_type": "display_data",
          "data": {
            "image/png": "[encoded data removed]",
            "text/plain": [
              "<Figure size 432x288 with 1 Axes>"
            ]
          },
          "metadata": {
            "tags": [],
            "needs_background": "light"
          }
        }
      ]
    },
    {
      "cell_type": "code",
      "metadata": {
        "id": "iWDLROBQPVNJ"
      },
      "source": [
        ""
      ],
      "execution_count": null,
      "outputs": []
    }
  ]
}